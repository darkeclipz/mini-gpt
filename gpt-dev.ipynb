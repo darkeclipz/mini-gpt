{
 "cells": [
  {
   "cell_type": "code",
   "execution_count": 13,
   "metadata": {},
   "outputs": [],
   "source": [
    "def read_all_text(file):\n",
    "    with open(file) as f:\n",
    "        return f.read()"
   ]
  },
  {
   "cell_type": "code",
   "execution_count": 14,
   "metadata": {},
   "outputs": [],
   "source": [
    "text = read_all_text(\"shakespeare.txt\")"
   ]
  },
  {
   "cell_type": "code",
   "execution_count": 15,
   "metadata": {},
   "outputs": [
    {
     "data": {
      "text/plain": [
       "\"THE SONNETS\\n\\nby William Shakespeare\\n\\nFrom fairest creatures we desire increase,\\nThat thereby beauty's rose might never die,\\nBut as the riper should by time decease,\\nHis tender heir might bear his memory:\\nBut thou contracted to thine own bright eyes,\\nFeed'st thy light's flame with self-substantial fuel,\\nMaking a famine where abundance lies,\\nThy self thy foe, to thy sweet self too cruel:\\nThou that art now the world's fresh ornament,\\nAnd only herald to the gaudy spring,\\nWithin thine own bud buriest thy content,\\nAnd tender churl mak'st waste in niggarding:\\nPity the world, or else this glutton be,\\nTo eat the world's due, by the grave and thee.\\n\\nWhen forty winters shall besiege thy brow,\\nAnd dig deep trenches in thy beauty's field,\\nThy youth's proud livery so gazed on now,\\nWill be a tattered weed of small worth held:  \\nThen being asked, where all thy beauty lies,\\nWhere all the treasure of thy lusty days;\\nTo say within thine own deep sunken eyes,\\nWere an all-eating shame, and thriftless praise.\\nHow much more praise deserved thy beauty's use,\\nIf thou couldst answer 'This fair child of mine\\nShall sum my count, and make my old excuse'\\nProving his beauty by succession thine.\\nThis were to be new made when thou art old,\\nAnd see thy blood warm when thou feel'st it cold.\\n\\nLook in thy glass and tell the face thou viewest,\\nNow is the time that face should form another,\\nWhose fresh repair if now thou not renewest,\\nThou dost beguile the world, unbless some mother.\\nFor where is she so fair whose uneared womb\\nDisdains the tillage of thy husbandry?\\nOr who is he so fond will be the tomb,\\nOf his self-love to stop posterity?  \\nThou art thy mother's glass and she in thee\\nCalls back the lovely April of her prime,\\nSo thou through windows of thine age shalt see,\\nDespite of wrinkles this thy golden time.\\nBut if thou live remembered not to be,\\nDie single and thine image dies with thee.\\n\\nUnthrifty loveliness why dost thou spend,\\nUpon thy self thy beauty's legacy?\\nNature's bequest gives nothing but doth lend,\\nAnd being frank she lends to those are free:\\nThen beauteous niggard why dost thou abuse,\\nThe bounteous largess given thee to give?\\nProfitless usurer why dost thou use\\nSo great a sum of sums yet canst not live?\\nFor having traffic with thy self alone,\\nThou of thy self thy sweet self dost deceive,\\nThen how when nature calls thee to be gone,\\nWhat acceptable audit canst thou leave?  \\nThy unused beauty must be tombed with thee,\\nWhich used lives th' executor to be.\\n\\nThose hours that with gentle work did frame\\nThe lovely gaze where every eye doth dwell\\nWill play the tyrants to the very same,\\nAnd that unfair which fairly doth excel:\\nFor never-resting time leads summer on\\nTo hideous winter and confounds him there,\\nSap checked with frost and lusty leaves quite gone,\\nBeauty o'er-snowed and bareness every where:\\nThen were not summer's distillation left\\nA liquid prisoner pent in walls of glass,\\nBeauty's effect with beauty were bereft,\\nNor it nor no remembrance what it was.\\nBut flowers distilled though they with winter meet,\\nLeese but their show, their substance still lives sweet.\\n  \\nThen let not winter's ragged hand deface,\\nIn thee thy summer ere thou be distilled:\\nMake sweet some vial; treasure thou some place,\\nWith beauty's treasure ere it be self-killed:\\nThat use is not forbidden usury,\\nWhich happies those that pay the willing loan;\\nThat's for thy self to breed another thee,\\nOr ten times happier be it ten for one,\\nTen times thy self were happier than thou art,\\nIf ten of thine ten times refigured thee:\\nThen what could death do if thou shouldst depart,\\nLeaving thee living in posterity?\\nBe not self-willed for thou art much too fair,\\nTo be death's conquest and make worms thine heir.\\n\\nLo in the orient when the gracious light\\nLifts up his burning head, each under eye\\nDoth homage to his new-appearing sight,\\nServing with looks his sacred majesty,  \\nAnd having climbed the steep-up heavenly hill,\\nResembling strong youth in his middle age,\\nYet mortal looks adore his beauty still,\\nAttending on his golden pilgrimage:\\nBut when from highmost pitch with weary car,\\nLike feeble age he reeleth from the day,\\nThe eyes (fore duteous) now converted are\\nFrom his low tract and look another way:\\nSo thou, thy self out-going in thy noon:\\nUnlooked on diest unless thou get a son.\\n\\nMusic to hear, why hear'st thou music sadly?\\nSweets with sweets war not, joy delights in joy:\\nWhy lov'st thou that which thou receiv'st not gladly,\\nOr else receiv'st with pleasure thine annoy?\\nIf the true concord of well-tuned sounds,\\nBy unions married do offend thine ear,\\nThey do but sweetly chide thee, who confounds\\nIn singleness the parts that thou shouldst bear:  \\nMark how one string sweet husband to another,\\nStrikes each in each by mutual ordering;\\nResembling sire, and child, and happy mother,\\nWho all in one, one pleasing note do sing:\\nWhose speechless song being many, seeming one,\\nSings this to thee, 'Thou single wilt prove none'.\\n\\nIs it for fear to wet a widow's eye,\\nThat thou consum'st thy self in single life?\\nAh, if thou issueless shalt hap to die,\\nThe world will wail thee like a makeless wife,\\nThe world will be thy widow and still weep,\\nThat thou no form of thee hast left behind,\\nWhen every private widow well may keep,\\nBy children's eyes, her husband's shape in mind:\\nLook what an unthrift in the world doth spend\\nShifts but his place, for still the world enjoys it;\\nBut beauty's waste hath in the world an end,\\nAnd kept unused the user so destroys it:  \\nNo love toward others in that bosom sits\\nThat on himself such murd'rous shame commits.\\n\\nFor shame deny that thou bear'st love to any\\nWho for thy self art so unprovident.\\nGrant if thou wilt, thou art beloved of many,\\nBut that thou none lov'st is most evident:\\nFor thou art so possessed with murd'rous hate,\\nThat 'gainst thy self thou stick'st not to conspire,\\nSeeking that beauteous roof to ruinate\\nWhich to repair should be thy chief desire:\\nO change thy thought, that I may change my mind,\\nShall hate be fairer lodged than gentle love?\\nBe as thy presence is gracious and kind,\\nOr to thy self at least kind-hearted prove,\\nMake thee another self for love of me,\\nThat beauty still may live in thine or thee.\\n  \\nAs fast as thou shalt wane so fast thou grow'st,\\nIn one of thine, from that which thou departest,\\nAnd that fresh blood which youngly thou bestow'st,\\nThou mayst call thine, when thou from youth convertest,\\nHerein lives wisdom, beauty, and increase,\\nWithout this folly, age, and cold decay,\\nIf all were minded so, the times should cease,\\nAnd threescore year would make the world away:\\nLet those whom nature hath not made for store,\\nHarsh, featureless, and rude, barrenly perish:\\nLook whom she best endowed, she gave thee more;\\nWhich bounteous gift thou shouldst in bounty cherish:\\nShe carved thee for her seal, and meant thereby,\\nThou shouldst print more, not let that copy die.\\n\\nWhen I do count the clock that tells the time,\\nAnd see the brave day sunk in hideous night,\\nWhen I behold the violet past prime,\\nAnd sable curls all silvered o'er with white:  \\nWhen lofty trees I see barren of leaves,\\nWhich erst from heat did canopy the herd\\nAnd summer's green all girded up in sheaves\\nBorne on the bier with white and bristly beard:\\nThen of thy beauty do I question make\\nThat thou among the wastes of time must go,\\nSince sweets and beauties do themselves forsake,\\nAnd die as fast as they see others grow,\\nAnd nothing 'gainst Time's scythe can make defence\\nSave breed to brave him, when he takes thee hence.\\n\\nO that you were your self, but love you are\\nNo longer yours, than you your self here live,\\nAgainst this coming end you should prepare,\\nAnd your sweet semblance to some other give.\\nSo should that beauty which you hold in lease\\nFind no determination, then you were\\nYour self again after your self's decease,\\nWhen your sweet issue your sweet form should bear.  \\nWho lets so fair a house fall to decay,\\nWhich husbandry in honour might uphold,\\nAgainst the stormy gusts of winter's day\\nAnd barren rage of death's eternal cold?\\nO none but unthrifts, dear my love you know,\\nYou had a father, let your son say so.\\n\\nNot from the stars do I my judgement pluck,\\nAnd yet methinks I have astronomy,\\nBut not to tell of good, or evil luck,\\nOf plagues, of dearths, or seasons' quality,\\nNor can I fortune to brief minutes tell;\\nPointing to each his thunder, rain and wind,\\nOr say with princes if it shall go well\\nBy oft predict that I in heaven find.\\nBut from thine eyes my knowledge I derive,\\nAnd constant stars in them I read such art\\nAs truth and beauty shall together thrive\\nIf from thy self, to store thou wouldst convert:  \\nOr else of thee this I prognosticate,\\nThy end is truth's and beauty's doom and date.\\n\\nWhen I consider every thing that grows\\nHolds in perfection but a little moment.\\nThat this huge stage presenteth nought but shows\\nWhereon the stars in secret influence comment.\\nWhen I perceive that men as plants increase,\\nCheered and checked even by the self-same sky:\\nVaunt in their youthful sap, at height decrease,\\nAnd wear their brave state out of memory.\\nThen the conceit of this inconstant stay,\\nSets you most rich in youth before my sight,\\nWhere wasteful time debateth with decay\\nTo change your day of youth to sullied night,\\nAnd all in war with Time for love of you,\\nAs he takes from you, I engraft you new.\\n  \\nBut wherefore do not you a mightier way\\nMake war upon this bloody tyrant Time?\\nAnd fortify your self in your decay\\nWith means more blessed than my barren rhyme?\\nNow stand you on the top of happy hours,\\nAnd many maiden gardens yet unset,\\nWith virtuous wish would bear you living flowers,\\nMuch liker than your painted counterfeit:\\nSo should the lines of life that life repair\\nWhich this (Time's pencil) or my pupil pen\\nNeither in inward worth nor outward fair\\nCan make you live your self in eyes of men.\\nTo give away your self, keeps your self still,\\nAnd you must live drawn by your own sweet skill.\\n\\nWho will believe my verse in time to come\\nIf it were filled with your most high deserts?\\nThough yet heaven knows it is but as a tomb\\nWhich hides your life, and shows not half your parts:  \\nIf I could write the beauty of your eyes,\\nAnd in fresh numbers number all your graces,\\nThe age to come would say this poet lies,\\nSuch heavenly touches ne'er touched earthly faces.\\nSo should my papers (yellowed with their age)\\nBe scorned, like old men of less truth than tongue,\\nAnd your true rights be termed a poet's rage,\\nAnd stretched metre of an antique song.\\nBut were some child of yours alive that time,\\nYou should live twice in it, and in my rhyme.\\n\\nShall I compare thee to a summer's day?\\nThou art more lovely and more temperate:\\nRough winds do shake the darling buds of May,\\nAnd summer's lease hath all too short a date:\\nSometime too hot the eye of heaven shines,\\nAnd often is his gold complexion dimmed,\\nAnd every fair from fair sometime declines,\\nBy chance, or nature's changing course untrimmed:  \\nBut thy eternal summer shall not fade,\\nNor lose possession of that fair thou ow'st,\\nNor shall death brag thou wand'rest in his shade,\\nWhen in eternal lines to time thou grow'st,\\nSo long as men can breathe or eyes can see,\\nSo long lives this, and this gives life to thee.\\n\\nDevouring Time blunt thou the lion's paws,\\nAnd make the earth devour her own sweet brood,\\nPluck the keen teeth from the fierce tiger's jaws,\\nAnd burn the long-lived phoenix, in her blood,\\nMake glad and sorry seasons as thou fleet'st,\\nAnd do whate'er thou wilt swift-footed Time\\nTo the wide world and all her fading sweets:\\nBut I forbid thee one most heinous crime,\\nO carve not with thy hours my love's fair brow,\\nNor draw no lines there with thine antique pen,\\nHim in thy course untainted do allow,\\nFor beauty's pattern to succeeding men.  \\nYet do thy worst old Time: despite thy wrong,\\nMy love shall in my verse ever live young.\\n\\nA woman's face with nature's own hand painted,\\nHast thou the master mistress of my passion,\\nA woman's gentle heart but not acquainted\\nWith shifting change as is false women's fashion,\\nAn eye more bright than theirs, less false in rolling:\\nGilding the object whereupon it gazeth,\\nA man in hue all hues in his controlling,\\nWhich steals men's eyes and women's souls amazeth.\\nAnd for a woman wert thou first created,\\nTill nature as she wrought thee fell a-doting,\\nAnd by addition me of thee defeated,\\nBy adding one thing to my purpose nothing.\\nBut since she pricked thee out for women's pleasure,\\nMine be thy love and thy love's use their treasure.\\n  \\nSo is it not with me as with that muse,\\nStirred by a painted beauty to his verse,\\nWho heaven it self for ornament doth use,\\nAnd every fair with his fair doth rehearse,\\nMaking a couplement of proud compare\\nWith sun and moon, with earth and sea's rich gems:\\nWith April's first-born flowers and all things rare,\\nThat heaven's air in this huge rondure hems.\\nO let me true in love but truly write,\\nAnd then believe me, my love is as fair,\\nAs any mother's child, though not so bright\\nAs those gold candles fixed in heaven's air:\\nLet them say more that like of hearsay well,\\nI will not praise that purpose not to sell.\\n\\nMy glass shall not persuade me I am old,\\nSo long as youth and thou are of one date,\\nBut when in thee time's furrows I behold,\\nThen look I death my days should expiate.  \\nFor all that beauty that doth cover thee,\\nIs but the seemly raiment of my heart,\\nWhich in thy breast doth live, as thine in me,\\nHow can I then be elder than thou art?\\nO therefore love be of thyself so wary,\\nAs I not for my self, but for thee will,\\nBearing thy heart which I will keep so chary\\nAs tender nurse her babe from faring ill.\\nPresume not on thy heart when mine is slain,\\nThou gav'st me thine not to give back again.\\n\\nAs an unperfect actor on the stage,\\nWho with his fear is put beside his part,\\nOr some fierce thing replete with too much rage,\\nWhose strength's abundance weakens his own heart;\\nSo I for fear of trust, forget to say,\\nThe perfect ceremony of love's rite,\\nAnd in mine own love's strength seem to decay,\\nO'ercharged with burthen of mine own love's might:  \\nO let my looks be then the eloquence,\\nAnd dumb presagers of my speaking breast,\\nWho plead for love, and look for recompense,\\nMore than that tongue that more hath more expressed.\\nO learn to read what silent love hath writ,\\nTo hear with eyes belongs to love's fine wit.\\n\\nMine eye hath played the painter and hath stelled,\\nThy beauty's form in table of my heart,\\nMy body is the frame wherein 'tis held,\\nAnd perspective it is best painter's art.\\nFor through the painter must you see his skill,\\nTo find where your true image pictured lies,\\nWhich in my bosom's shop is hanging still,\\nThat hath his windows glazed with thine eyes:\\nNow see what good turns eyes for eyes have done,\\nMine eyes have drawn thy shape, and thine for me\\nAre windows to my breast, where-through the sun\\nDelights to peep, to gaze therein on thee;  \\nYet eyes this cunning want to grace their art,\\nThey draw but what they see, know not the heart.\\n\\nLet those who are in favour with their stars,\\nOf public honour and proud titles boast,\\nWhilst I whom fortune of such triumph bars\\nUnlooked for joy in that I honour most;\\nGreat princes' favourites their fair leaves spread,\\nBut as the marigold at the sun's eye,\\nAnd in themselves their pride lies buried,\\nFor at a frown they in their glory die.\\nThe painful warrior famoused for fight,\\nAfter a thousand victories once foiled,\\nIs from the book of honour razed quite,\\nAnd all the rest forgot for which he toiled:\\nThen happy I that love and am beloved\\nWhere I may not remove nor be removed.\\n  \\nLord of my love, to whom in vassalage\\nThy merit hath my duty strongly knit;\\nTo thee I send this written embassage\\nTo witness duty, not to show my wit.\\nDuty so great, which wit so poor as mine\\nMay make seem bare, in wanting words to show it;\\nBut that I hope some good conceit of thine\\nIn thy soul's thought (all naked) will bestow it:\\nTill whatsoever star that guides my moving,\\nPoints on me graciously with fair aspect,\\nAnd puts apparel on my tattered loving,\\nTo show me worthy of thy sweet respect,\\nThen may I dare to boast how I do love thee,\\nTill then, not show my head where thou mayst prove me.\\n\\nWeary with toil, I haste me to my bed,\\nThe dear respose for limbs with travel tired,\\nBut then begins a journey in my head\\nTo work my mind, when body's work's expired.  \\nFor then my thoughts (from far where I abide)\\nIntend a zealous pilgrimage to thee,\\nAnd keep my drooping eyelids open wide,\\nLooking on darkness which the blind do see.\\nSave that my soul's imaginary sight\\nPresents thy shadow to my sightless view,\\nWhich like a jewel (hung in ghastly night)\\nMakes black night beauteous, and her old face new.\\nLo thus by day my limbs, by night my mind,\\nFor thee, and for my self, no quiet find.\\n\\nHow can I then return in happy plight\\nThat am debarred the benefit of rest?\\nWhen day's oppression is not eased by night,\\nBut day by night and night by day oppressed.\\nAnd each (though enemies to either's reign)\\nDo in consent shake hands to torture me,\\nThe one by toil, the other to complain\\nHow far I toil, still farther off from thee.  \\nI tell the day to please him thou art bright,\\nAnd dost him grace when clouds do blot the heaven:\\nSo flatter I the swart-complexioned night,\\nWhen sparkling stars twire not thou gild'st the even.\\nBut day doth daily draw my sorrows longer,\\nAnd night doth nightly make grief's length seem stronger\\n\\nWhen in disgrace with Fortune and men's eyes,\\nI all alone beweep my outcast state,\\nAnd trouble deaf heaven with my bootless cries,\\nAnd look upon my self and curse my fate,\\nWishing me like to one more rich in hope,\\nFeatured like him, like him with friends possessed,\\nDesiring this man's art, and that man's scope,\\nWith what I most enjoy contented least,\\nYet in these thoughts my self almost despising,\\nHaply I think on thee, and then my state,\\n(Like to the lark at break of day arising\\nFrom sullen earth) sings hymns at heaven's gate,  \\nFor thy sweet love remembered such wealth brings,\\nThat then I scorn to change my state with kings.\\n\\nWhen to the sessions of sweet silent thought,\\nI summon up remembrance of things past,\\nI sigh the lack of many a thing I sought,\\nAnd with old woes new wail my dear time's waste:\\nThen can I drown an eye (unused to flow)\\nFor precious friends hid in death's dateless night,\\nAnd weep afresh love's long since cancelled woe,\\nAnd moan th' expense of many a vanished sight.\\nThen can I grieve at grievances foregone,\\nAnd heavily from woe to woe tell o'er\\nThe sad account of fore-bemoaned moan,\\nWhich I new pay as if not paid before.\\nBut if the while I think on thee (dear friend)\\nAll losses are restored, and sorrows end.\\n  \\nThy bosom is endeared with all hearts,\\nWhich I by lacking have supposed dead,\\nAnd there reigns love and all love's loving parts,\\nAnd all those friends which I thought buried.\\nHow many a holy and obsequious tear\\nHath dear religious love stol'n from mine eye,\\nAs interest of the dead, which now appear,\\nBut things removed that hidden in thee lie.\\nThou art the grave where buried love doth live,\\nHung with the trophies of my lovers gone,\\nWho all their parts of me to thee did give,\\nThat due of many, now is thine alone.\\nTheir images I loved, I view in thee,\\nAnd thou (all they) hast all the all of me.\\n\\nIf thou survive my well-contented day,\\nWhen that churl death my bones with dust shall cover\\nAnd shalt by fortune once more re-survey\\nThese poor rude lines of thy deceased lover:  \\nCompare them with the bett'ring of the time,\\nAnd though they be outstripped by every pen,\\nReserve them for my love, not for their rhyme,\\nExceeded by the height of happier men.\\nO then vouchsafe me but this loving thought,\\n'Had my friend's Muse grown with this growing age,\\nA dearer birth than this his love had brought\\nTo march in ranks of better equipage:\\nBut since he died and poets better prove,\\nTheirs for their style I'll read, his for his love'.\\n\\nFull many a glorious morning have I seen,\\nFlatter the mountain tops with sovereign eye,\\nKissing with golden face the meadows green;\\nGilding pale streams with heavenly alchemy:\\nAnon permit the basest clouds to ride,\\nWith ugly rack on his celestial face,\\nAnd from the forlorn world his visage hide\\nStealing unseen to west with this disgrace:  \\nEven so my sun one early morn did shine,\\nWith all triumphant splendour on my brow,\\nBut out alack, he was but one hour mine,\\nThe region cloud hath masked him from me now.\\nYet him for this, my love no whit disdaineth,\\nSuns of the world may stain, when heaven's sun staineth.\\n\\nWhy didst thou promise such a beauteous day,\\nAnd make me travel forth without my cloak,\\nTo let base clouds o'ertake me in my way,\\nHiding thy brav'ry in their rotten smoke?\\n'Tis not enough that through the cloud thou break,\\nTo dry the rain on my storm-beaten face,\\nFor no man well of such a salve can speak,\\nThat heals the wound, and cures not the disgrace:\\nNor can thy shame give physic to my grief,\\nThough thou repent, yet I have still the loss,\\nTh' offender's sorrow lends but weak relief\\nTo him that bears the strong offence's cross.  \\nAh but those tears are pearl which thy love sheds,\\nAnd they are rich, and ransom all ill deeds.\\n\\n\\n\\nNo more be grieved at that which thou hast done,\\nRoses have thorns, and silver fountains mud,\\nClouds and eclipses stain both moon and sun,\\nAnd loathsome canker lives in sweetest bud.\\nAll men make faults, and even I in this,\\nAuthorizing thy trespass with compare,\\nMy self corrupting salving thy amiss,\\nExcusing thy sins more than thy sins are:\\nFor to thy sensual fault I bring in sense,\\nThy adverse party is thy advocate,\\nAnd 'gainst my self a lawful plea commence:\\nSuch civil war is in my love and hate,\\nThat I an accessary needs must be,\\nTo that sweet thief which sourly robs from me.\\n  \\nLet me confess that we two must be twain,\\nAlthough our undivided loves are one:\\nSo shall those blots that do with me remain,\\nWithout thy help, by me be borne alone.\\nIn our two loves there is but one respect,\\nThough in our lives a separable spite,\\nWhich though it alter not love's sole effect,\\nYet doth it steal sweet hours from love's delight.\\nI may not evermore acknowledge thee,\\nLest my bewailed guilt should do thee shame,\\nNor thou with public kindness honour me,\\nUnless thou take that honour from thy name:\\nBut do not so, I love thee in such sort,\\nAs thou being mine, mine is thy good report.\\n\\nAs a decrepit father takes delight,\\nTo see his active child do deeds of youth,\\nSo I, made lame by Fortune's dearest spite\\nTake all my comfort of thy worth and truth.  \\nFor whether beauty, birth, or wealth, or wit,\\nOr any of these all, or all, or more\\nEntitled in thy parts, do crowned sit,\\nI make my love engrafted to this store:\\nSo then I am not lame, poor, nor despised,\\nWhilst that this shadow doth such substance give,\\nThat I in thy abundance am sufficed,\\nAnd by a part of all thy glory live:\\nLook what is best, that best I wish in thee,\\nThis wish I have, then ten times happy me.\\n\\nHow can my muse want subject to invent\\nWhile thou dost breathe that pour'st into my verse,\\nThine own sweet argument, too excellent,\\nFor every vulgar paper to rehearse?\\nO give thy self the thanks if aught in me,\\nWorthy perusal stand against thy sight,\\nFor who's so dumb that cannot write to thee,\\nWhen thou thy self dost give invention light?  \\nBe thou the tenth Muse, ten times more in worth\\nThan those old nine which rhymers invocate,\\nAnd he that calls on thee, let him bring forth\\nEternal numbers to outlive long date.\\nIf my slight muse do please these curious days,\\nThe pain be mine, but thine shall be the praise.\\n\\nO how thy worth with manners may I sing,\\nWhen thou art all the better part of me?\\nWhat can mine own praise to mine own self bring:\\nAnd what is't but mine own when I praise thee?\\nEven for this, let us divided live,\\nAnd our dear love lose name of single one,\\nThat by this separation I may give:\\nThat due to thee which thou deserv'st alone:\\nO absence what a torment wouldst thou prove,\\nWere it not thy sour leisure gave sweet leave,\\nTo entertain the time with thoughts of love,\\nWhich time and thoughts so sweetly doth deceive.  \\nAnd that thou teachest how to make one twain,\\nBy praising him here who doth hence remain.\\n\\nTake all my loves, my love, yea take them all,\\nWhat hast thou then more than thou hadst before?\\nNo love, my love, that thou mayst true love call,\\nAll mine was thine, before thou hadst this more:\\nThen if for my love, thou my love receivest,\\nI cannot blame thee, for my love thou usest,\\nBut yet be blamed, if thou thy self deceivest\\nBy wilful taste of what thy self refusest.\\nI do forgive thy robbery gentle thief\\nAlthough thou steal thee all my poverty:\\nAnd yet love knows it is a greater grief\\nTo bear greater wrong, than hate's known injury.\\nLascivious grace, in whom all ill well shows,\\nKill me with spites yet we must not be foes.\\n  \\nThose pretty wrongs that liberty commits,\\nWhen I am sometime absent from thy heart,\\nThy beauty, and thy years full well befits,\\nFor still temptation follows where thou art.\\nGentle thou art, and therefore to be won,\\nBeauteous thou art, therefore to be assailed.\\nAnd when a woman woos, what woman's son,\\nWill sourly leave her till he have prevailed?\\nAy me, but yet thou mightst my seat forbear,\\nAnd chide thy beauty, and thy straying youth,\\nWho lead thee in their riot even there\\nWhere thou art forced to break a twofold truth:\\nHers by thy beauty tempting her to thee,\\nThine by thy beauty being false to me.\\n\\nThat thou hast her it is not all my grief,\\nAnd yet it may be said I loved her dearly,\\nThat she hath thee is of my wailing chief,\\nA loss in love that touches me more nearly.  \\nLoving offenders thus I will excuse ye,\\nThou dost love her, because thou know'st I love her,\\nAnd for my sake even so doth she abuse me,\\nSuff'ring my friend for my sake to approve her.\\nIf I lose thee, my loss is my love's gain,\\nAnd losing her, my friend hath found that loss,\\nBoth find each other, and I lose both twain,\\nAnd both for my sake lay on me this cross,\\nBut here's the joy, my friend and I are one,\\nSweet flattery, then she loves but me alone.\\n\\nWhen most I wink then do mine eyes best see,\\nFor all the day they view things unrespected,\\nBut when I sleep, in dreams they look on thee,\\nAnd darkly bright, are bright in dark directed.\\nThen thou whose shadow shadows doth make bright\\nHow would thy shadow's form, form happy show,\\nTo the clear day with thy much clearer light,\\nWhen to unseeing eyes thy shade shines so!  \\nHow would (I say) mine eyes be blessed made,\\nBy looking on thee in the living day,\\nWhen in dead night thy fair imperfect shade,\\nThrough heavy sleep on sightless eyes doth stay!\\nAll days are nights to see till I see thee,\\nAnd nights bright days when dreams do show thee me.\\n\\nIf the dull substance of my flesh were thought,\\nInjurious distance should not stop my way,\\nFor then despite of space I would be brought,\\nFrom limits far remote, where thou dost stay,\\nNo matter then although my foot did stand\\nUpon the farthest earth removed from thee,\\nFor nimble thought can jump both sea and land,\\nAs soon as think the place where he would be.\\nBut ah, thought kills me that I am not thought\\nTo leap large lengths of miles when thou art gone,\\nBut that so much of earth and water wrought,\\nI must attend, time's leisure with my moan.  \\nReceiving nought by elements so slow,\\nBut heavy tears, badges of either's woe.\\n\\nThe other two, slight air, and purging fire,\\nAre both with thee, wherever I abide,\\nThe first my thought, the other my desire,\\nThese present-absent with swift motion slide.\\nFor when these quicker elements are gone\\nIn tender embassy of love to thee,\\nMy life being made of four, with two alone,\\nSinks down to death, oppressed with melancholy.\\nUntil life's composition be recured,\\nBy those swift messengers returned from thee,\\nWho even but now come back again assured,\\nOf thy fair health, recounting it to me.\\nThis told, I joy, but then no longer glad,\\nI send them back again and straight grow sad.\\n  \\nMine eye and heart are at a mortal war,\\nHow to divide the conquest of thy sight,\\nMine eye, my heart thy picture's sight would bar,\\nMy heart, mine eye the freedom of that right,\\nMy heart doth plead that thou in him dost lie,\\n(A closet never pierced with crystal eyes)\\nBut the defendant doth that plea deny,\\nAnd says in him thy fair appearance lies.\\nTo side this title is impanelled\\nA quest of thoughts, all tenants to the heart,\\nAnd by their verdict is determined\\nThe clear eye's moiety, and the dear heart's part.\\nAs thus, mine eye's due is thy outward part,\\nAnd my heart's right, thy inward love of heart.\\n\\nBetwixt mine eye and heart a league is took,\\nAnd each doth good turns now unto the other,\\nWhen that mine eye is famished for a look,\\nOr heart in love with sighs himself doth smother;  \\nWith my love's picture then my eye doth feast,\\nAnd to the painted banquet bids my heart:\\nAnother time mine eye is my heart's guest,\\nAnd in his thoughts of love doth share a part.\\nSo either by thy picture or my love,\\nThy self away, art present still with me,\\nFor thou not farther than my thoughts canst move,\\nAnd I am still with them, and they with thee.\\nOr if they sleep, thy picture in my sight\\nAwakes my heart, to heart's and eye's delight.\\n\\nHow careful was I when I took my way,\\nEach trifle under truest bars to thrust,\\nThat to my use it might unused stay\\nFrom hands of falsehood, in sure wards of trust!\\nBut thou, to whom my jewels trifles are,\\nMost worthy comfort, now my greatest grief,\\nThou best of dearest, and mine only care,\\nArt left the prey of every vulgar thief.  \\nThee have I not locked up in any chest,\\nSave where thou art not, though I feel thou art,\\nWithin the gentle closure of my breast,\\nFrom whence at pleasure thou mayst come and part,\\nAnd even thence thou wilt be stol'n I fear,\\nFor truth proves thievish for a prize so dear.\\n\\nAgainst that time (if ever that time come)\\nWhen I shall see thee frown on my defects,\\nWhen as thy love hath cast his utmost sum,\\nCalled to that audit by advised respects,\\nAgainst that time when thou shalt strangely pass,\\nAnd scarcely greet me with that sun thine eye,\\nWhen love converted from the thing it was\\nShall reasons find of settled gravity;\\nAgainst that time do I ensconce me here\\nWithin the knowledge of mine own desert,\\nAnd this my hand, against my self uprear,\\nTo guard the lawful reasons on thy part,  \\nTo leave poor me, thou hast the strength of laws,\\nSince why to love, I can allege no cause.\\n\\nHow heavy do I journey on the way,\\nWhen what I seek (my weary travel's end)\\nDoth teach that case and that repose to say\\n'Thus far the miles are measured from thy friend.'\\nThe beast that bears me, tired with my woe,\\nPlods dully on, to bear that weight in me,\\nAs if by some instinct the wretch did know\\nHis rider loved not speed being made from thee:\\nThe bloody spur cannot provoke him on,\\nThat sometimes anger thrusts into his hide,\\nWhich heavily he answers with a groan,\\nMore sharp to me than spurring to his side,\\nFor that same groan doth put this in my mind,\\nMy grief lies onward and my joy behind.\\n  \\nThus can my love excuse the slow offence,\\nOf my dull bearer, when from thee I speed,\\nFrom where thou art, why should I haste me thence?\\nTill I return of posting is no need.\\nO what excuse will my poor beast then find,\\nWhen swift extremity can seem but slow?\\nThen should I spur though mounted on the wind,\\nIn winged speed no motion shall I know,\\nThen can no horse with my desire keep pace,\\nTherefore desire (of perfect'st love being made)\\nShall neigh (no dull flesh) in his fiery race,\\nBut love, for love, thus shall excuse my jade,\\nSince from thee going, he went wilful-slow,\\nTowards thee I'll run, and give him leave to go.\\n\\nSo am I as the rich whose blessed key,\\nCan bring him to his sweet up-locked treasure,\\nThe which he will not every hour survey,\\nFor blunting the fine point of seldom pleasure.  \\nTherefore are feasts so solemn and so rare,\\nSince seldom coming in that long year set,\\nLike stones of worth they thinly placed are,\\nOr captain jewels in the carcanet.\\nSo is the time that keeps you as my chest\\nOr as the wardrobe which the robe doth hide,\\nTo make some special instant special-blest,\\nBy new unfolding his imprisoned pride.\\nBlessed are you whose worthiness gives scope,\\nBeing had to triumph, being lacked to hope.\\n\\nWhat is your substance, whereof are you made,\\nThat millions of strange shadows on you tend?\\nSince every one, hath every one, one shade,\\nAnd you but one, can every shadow lend:\\nDescribe Adonis and the counterfeit,\\nIs poorly imitated after you,\\nOn Helen's cheek all art of beauty set,\\nAnd you in Grecian tires are painted new:  \\nSpeak of the spring, and foison of the year,\\nThe one doth shadow of your beauty show,\\nThe other as your bounty doth appear,\\nAnd you in every blessed shape we know.\\nIn all external grace you have some part,\\nBut you like none, none you for constant heart.\\n\\nO how much more doth beauty beauteous seem,\\nBy that sweet ornament which truth doth give!\\nThe rose looks fair, but fairer we it deem\\nFor that sweet odour, which doth in it live:\\nThe canker blooms have full as deep a dye,\\nAs the perfumed tincture of the roses,\\nHang on such thorns, and play as wantonly,\\nWhen summer's breath their masked buds discloses:\\nBut for their virtue only is their show,\\nThey live unwooed, and unrespected fade,\\nDie to themselves. Sweet roses do not so,\\nOf their sweet deaths, are sweetest odours made:  \\nAnd so of you, beauteous and lovely youth,\\nWhen that shall vade, by verse distills your truth.\\n\\nNot marble, nor the gilded monuments\\nOf princes shall outlive this powerful rhyme,\\nBut you shall shine more bright in these contents\\nThan unswept stone, besmeared with sluttish time.\\nWhen wasteful war shall statues overturn,\\nAnd broils root out the work of masonry,\\nNor Mars his sword, nor war's quick fire shall burn:\\nThe living record of your memory.\\n'Gainst death, and all-oblivious enmity\\nShall you pace forth, your praise shall still find room,\\nEven in the eyes of all posterity\\nThat wear this world out to the ending doom.\\nSo till the judgment that your self arise,\\nYou live in this, and dwell in lovers' eyes.\\n  \\nSweet love renew thy force, be it not said\\nThy edge should blunter be than appetite,\\nWhich but to-day by feeding is allayed,\\nTo-morrow sharpened in his former might.\\nSo love be thou, although to-day thou fill\\nThy hungry eyes, even till they wink with fulness,\\nTo-morrow see again, and do not kill\\nThe spirit of love, with a perpetual dulness:\\nLet this sad interim like the ocean be\\nWhich parts the shore, where two contracted new,\\nCome daily to the banks, that when they see:\\nReturn of love, more blest may be the view.\\nOr call it winter, which being full of care,\\nMakes summer's welcome, thrice more wished, more rare.\\n\\nBeing your slave what should I do but tend,\\nUpon the hours, and times of your desire?\\nI have no precious time at all to spend;\\nNor services to do till you require.  \\nNor dare I chide the world-without-end hour,\\nWhilst I (my sovereign) watch the clock for you,\\nNor think the bitterness of absence sour,\\nWhen you have bid your servant once adieu.\\nNor dare I question with my jealous thought,\\nWhere you may be, or your affairs suppose,\\nBut like a sad slave stay and think of nought\\nSave where you are, how happy you make those.\\nSo true a fool is love, that in your will,\\n(Though you do any thing) he thinks no ill.\\n\\nThat god forbid, that made me first your slave,\\nI should in thought control your times of pleasure,\\nOr at your hand th' account of hours to crave,\\nBeing your vassal bound to stay your leisure.\\nO let me suffer (being at your beck)\\nTh' imprisoned absence of your liberty,\\nAnd patience tame to sufferance bide each check,\\nWithout accusing you of injury.  \\nBe where you list, your charter is so strong,\\nThat you your self may privilage your time\\nTo what you will, to you it doth belong,\\nYour self to pardon of self-doing crime.\\nI am to wait, though waiting so be hell,\\nNot blame your pleasure be it ill or well.\\n\\nIf there be nothing new, but that which is,\\nHath been before, how are our brains beguiled,\\nWhich labouring for invention bear amis\\nThe second burthen of a former child!\\nO that record could with a backward look,\\nEven of five hundred courses of the sun,\\nShow me your image in some antique book,\\nSince mind at first in character was done.\\nThat I might see what the old world could say,\\nTo this composed wonder of your frame,\\nWhether we are mended, or whether better they,\\nOr whether revolution be the same.  \\nO sure I am the wits of former days,\\nTo subjects worse have given admiring praise.\\n\\nLike as the waves make towards the pebbled shore,\\nSo do our minutes hasten to their end,\\nEach changing place with that which goes before,\\nIn sequent toil all forwards do contend.\\nNativity once in the main of light,\\nCrawls to maturity, wherewith being crowned,\\nCrooked eclipses 'gainst his glory fight,\\nAnd Time that gave, doth now his gift confound.\\nTime doth transfix the flourish set on youth,\\nAnd delves the parallels in beauty's brow,\\nFeeds on the rarities of nature's truth,\\nAnd nothing stands but for his scythe to mow.\\nAnd yet to times in hope, my verse shall stand\\nPraising thy worth, despite his cruel hand.\\n  \\nIs it thy will, thy image should keep open\\nMy heavy eyelids to the weary night?\\nDost thou desire my slumbers should be broken,\\nWhile shadows like to thee do mock my sight?\\nIs it thy spirit that thou send'st from thee\\nSo far from home into my deeds to pry,\\nTo find out shames and idle hours in me,\\nThe scope and tenure of thy jealousy?\\nO no, thy love though much, is not so great,\\nIt is my love that keeps mine eye awake,\\nMine own true love that doth my rest defeat,\\nTo play the watchman ever for thy sake.\\nFor thee watch I, whilst thou dost wake elsewhere,\\nFrom me far off, with others all too near.\\n\\nSin of self-love possesseth all mine eye,\\nAnd all my soul, and all my every part;\\nAnd for this sin there is no remedy,\\nIt is so grounded inward in my heart.  \\nMethinks no face so gracious is as mine,\\nNo shape so true, no truth of such account,\\nAnd for my self mine own worth do define,\\nAs I all other in all worths surmount.\\nBut when my glass shows me my self indeed\\nbeated and chopt with tanned antiquity,\\nMine own self-love quite contrary I read:\\nSelf, so self-loving were iniquity.\\n'Tis thee (my self) that for my self I praise,\\nPainting my age with beauty of thy days.\\n\\nAgainst my love shall be as I am now\\nWith Time's injurious hand crushed and o'erworn,\\nWhen hours have drained his blood and filled his brow\\nWith lines and wrinkles, when his youthful morn\\nHath travelled on to age's steepy night,\\nAnd all those beauties whereof now he's king\\nAre vanishing, or vanished out of sight,\\nStealing away the treasure of his spring:  \\nFor such a time do I now fortify\\nAgainst confounding age's cruel knife,\\nThat he shall never cut from memory\\nMy sweet love's beauty, though my lover's life.\\nHis beauty shall in these black lines be seen,\\nAnd they shall live, and he in them still green.\\n\\nWhen I have seen by Time's fell hand defaced\\nThe rich-proud cost of outworn buried age,\\nWhen sometime lofty towers I see down-rased,\\nAnd brass eternal slave to mortal rage.\\nWhen I have seen the hungry ocean gain\\nAdvantage on the kingdom of the shore,\\nAnd the firm soil win of the watery main,\\nIncreasing store with loss, and loss with store.\\nWhen I have seen such interchange of State,\\nOr state it self confounded, to decay,\\nRuin hath taught me thus to ruminate\\nThat Time will come and take my love away.  \\nThis thought is as a death which cannot choose\\nBut weep to have, that which it fears to lose.\\n\\nSince brass, nor stone, nor earth, nor boundless sea,\\nBut sad mortality o'ersways their power,\\nHow with this rage shall beauty hold a plea,\\nWhose action is no stronger than a flower?\\nO how shall summer's honey breath hold out,\\nAgainst the wrackful siege of batt'ring days,\\nWhen rocks impregnable are not so stout,\\nNor gates of steel so strong but time decays?\\nO fearful meditation, where alack,\\nShall Time's best jewel from Time's chest lie hid?\\nOr what strong hand can hold his swift foot back,\\nOr who his spoil of beauty can forbid?\\nO none, unless this miracle have might,\\nThat in black ink my love may still shine bright.\\n  \\nTired with all these for restful death I cry,\\nAs to behold desert a beggar born,\\nAnd needy nothing trimmed in jollity,\\nAnd purest faith unhappily forsworn,\\nAnd gilded honour shamefully misplaced,\\nAnd maiden virtue rudely strumpeted,\\nAnd right perfection wrongfully disgraced,\\nAnd strength by limping sway disabled\\nAnd art made tongue-tied by authority,\\nAnd folly (doctor-like) controlling skill,\\nAnd simple truth miscalled simplicity,\\nAnd captive good attending captain ill.\\nTired with all these, from these would I be gone,\\nSave that to die, I leave my love alone.\\n\\nAh wherefore with infection should he live,\\nAnd with his presence grace impiety,\\nThat sin by him advantage should achieve,\\nAnd lace it self with his society?  \\nWhy should false painting imitate his cheek,\\nAnd steal dead seeming of his living hue?\\nWhy should poor beauty indirectly seek,\\nRoses of shadow, since his rose is true?\\nWhy should he live, now nature bankrupt is,\\nBeggared of blood to blush through lively veins,\\nFor she hath no exchequer now but his,\\nAnd proud of many, lives upon his gains?\\nO him she stores, to show what wealth she had,\\nIn days long since, before these last so bad.\\n\\nThus is his cheek the map of days outworn,\\nWhen beauty lived and died as flowers do now,\\nBefore these bastard signs of fair were born,\\nOr durst inhabit on a living brow:\\nBefore the golden tresses of the dead,\\nThe right of sepulchres, were shorn away,\\nTo live a second life on second head,\\nEre beauty's dead fleece made another gay:  \\nIn him those holy antique hours are seen,\\nWithout all ornament, it self and true,\\nMaking no summer of another's green,\\nRobbing no old to dress his beauty new,\\nAnd him as for a map doth Nature store,\\nTo show false Art what beauty was of yore.\\n\\nThose parts of thee that the world's eye doth view,\\nWant nothing that the thought of hearts can mend:\\nAll tongues (the voice of souls) give thee that due,\\nUttering bare truth, even so as foes commend.\\nThy outward thus with outward praise is crowned,\\nBut those same tongues that give thee so thine own,\\nIn other accents do this praise confound\\nBy seeing farther than the eye hath shown.\\nThey look into the beauty of thy mind,\\nAnd that in guess they measure by thy deeds,\\nThen churls their thoughts (although their eyes were kind)\\nTo thy fair flower add the rank smell of weeds:  \\nBut why thy odour matcheth not thy show,\\nThe soil is this, that thou dost common grow.\\n\\n\\n\\nThat thou art blamed shall not be thy defect,\\nFor slander's mark was ever yet the fair,\\nThe ornament of beauty is suspect,\\nA crow that flies in heaven's sweetest air.\\nSo thou be good, slander doth but approve,\\nThy worth the greater being wooed of time,\\nFor canker vice the sweetest buds doth love,\\nAnd thou present'st a pure unstained prime.\\nThou hast passed by the ambush of young days,\\nEither not assailed, or victor being charged,\\nYet this thy praise cannot be so thy praise,\\nTo tie up envy, evermore enlarged,\\nIf some suspect of ill masked not thy show,\\nThen thou alone kingdoms of hearts shouldst owe.\\n\\n\\n  \\nNo longer mourn for me when I am dead,\\nThan you shall hear the surly sullen bell\\nGive warning to the world that I am fled\\nFrom this vile world with vilest worms to dwell:\\nNay if you read this line, remember not,\\nThe hand that writ it, for I love you so,\\nThat I in your sweet thoughts would be forgot,\\nIf thinking on me then should make you woe.\\nO if (I say) you look upon this verse,\\nWhen I (perhaps) compounded am with clay,\\nDo not so much as my poor name rehearse;\\nBut let your love even with my life decay.\\nLest the wise world should look into your moan,\\nAnd mock you with me after I am gone.\\n\\n\\n\\nO lest the world should task you to recite,\\nWhat merit lived in me that you should love\\nAfter my death (dear love) forget me quite,\\nFor you in me can nothing worthy prove.  \\nUnless you would devise some virtuous lie,\\nTo do more for me than mine own desert,\\nAnd hang more praise upon deceased I,\\nThan niggard truth would willingly impart:\\nO lest your true love may seem false in this,\\nThat you for love speak well of me untrue,\\nMy name be buried where my body is,\\nAnd live no more to shame nor me, nor you.\\nFor I am shamed by that which I bring forth,\\nAnd so should you, to love things nothing worth.\\n\\n\\n\\nThat time of year thou mayst in me behold,\\nWhen yellow leaves, or none, or few do hang\\nUpon those boughs which shake against the cold,\\nBare ruined choirs, where late the sweet birds sang.\\nIn me thou seest the twilight of such day,\\nAs after sunset fadeth in the west,\\nWhich by and by black night doth take away,\\nDeath's second self that seals up all in rest.  \\nIn me thou seest the glowing of such fire,\\nThat on the ashes of his youth doth lie,\\nAs the death-bed, whereon it must expire,\\nConsumed with that which it was nourished by.\\nThis thou perceiv'st, which makes thy love more strong,\\nTo love that well, which thou must leave ere long.\\n\\n\\n\\nBut be contented when that fell arrest,\\nWithout all bail shall carry me away,\\nMy life hath in this line some interest,\\nWhich for memorial still with thee shall stay.\\nWhen thou reviewest this, thou dost review,\\nThe very part was consecrate to thee,\\nThe earth can have but earth, which is his due,\\nMy spirit is thine the better part of me,\\nSo then thou hast but lost the dregs of life,\\nThe prey of worms, my body being dead,\\nThe coward conquest of a wretch's knife,\\nToo base of thee to be remembered,  \\nThe worth of that, is that which it contains,\\nAnd that is this, and this with thee remains.\\n\\n\\n\\nSo are you to my thoughts as food to life,\\nOr as sweet-seasoned showers are to the ground;\\nAnd for the peace of you I hold such strife\\nAs 'twixt a miser and his wealth is found.\\nNow proud as an enjoyer, and anon\\nDoubting the filching age will steal his treasure,\\nNow counting best to be with you alone,\\nThen bettered that the world may see my pleasure,\\nSometime all full with feasting on your sight,\\nAnd by and by clean starved for a look,\\nPossessing or pursuing no delight\\nSave what is had, or must from you be took.\\nThus do I pine and surfeit day by day,\\nOr gluttoning on all, or all away.\\n\\n\\n  \\nWhy is my verse so barren of new pride?\\nSo far from variation or quick change?\\nWhy with the time do I not glance aside\\nTo new-found methods, and to compounds strange?\\nWhy write I still all one, ever the same,\\nAnd keep invention in a noted weed,\\nThat every word doth almost tell my name,\\nShowing their birth, and where they did proceed?\\nO know sweet love I always write of you,\\nAnd you and love are still my argument:\\nSo all my best is dressing old words new,\\nSpending again what is already spent:\\nFor as the sun is daily new and old,\\nSo is my love still telling what is told.\\n\\n\\n\\nThy glass will show thee how thy beauties wear,\\nThy dial how thy precious minutes waste,\\nThese vacant leaves thy mind's imprint will bear,\\nAnd of this book, this learning mayst thou taste.  \\nThe wrinkles which thy glass will truly show,\\nOf mouthed graves will give thee memory,\\nThou by thy dial's shady stealth mayst know,\\nTime's thievish progress to eternity.\\nLook what thy memory cannot contain,\\nCommit to these waste blanks, and thou shalt find\\nThose children nursed, delivered from thy brain,\\nTo take a new acquaintance of thy mind.\\nThese offices, so oft as thou wilt look,\\nShall profit thee, and much enrich thy book.\\n\\n\\n\\nSo oft have I invoked thee for my muse,\\nAnd found such fair assistance in my verse,\\nAs every alien pen hath got my use,\\nAnd under thee their poesy disperse.\\nThine eyes, that taught the dumb on high to sing,\\nAnd heavy ignorance aloft to fly,\\nHave added feathers to the learned's wing,\\nAnd given grace a double majesty.\\nYet be most proud of that which I compile,\\nWhose influence is thine, and born of thee,\\nIn others' works thou dost but mend the style,\\nAnd arts with thy sweet graces graced be.\\nBut thou art all my art, and dost advance\\nAs high as learning, my rude ignorance.\\n\\n\\n\\nWhilst I alone did call upon thy aid,\\nMy verse alone had all thy gentle grace,\\nBut now my gracious numbers are decayed,\\nAnd my sick muse doth give an other place.\\nI grant (sweet love) thy lovely argument\\nDeserves the travail of a worthier pen,\\nYet what of thee thy poet doth invent,\\nHe robs thee of, and pays it thee again,\\nHe lends thee virtue, and he stole that word,\\nFrom thy behaviour, beauty doth he give\\nAnd found it in thy cheek: he can afford\\nNo praise to thee, but what in thee doth live.  \\nThen thank him not for that which he doth say,\\nSince what he owes thee, thou thy self dost pay.\\n\\n\\n\\nO how I faint when I of you do write,\\nKnowing a better spirit doth use your name,\\nAnd in the praise thereof spends all his might,\\nTo make me tongue-tied speaking of your fame.\\nBut since your worth (wide as the ocean is)\\nThe humble as the proudest sail doth bear,\\nMy saucy bark (inferior far to his)\\nOn your broad main doth wilfully appear.\\nYour shallowest help will hold me up afloat,\\nWhilst he upon your soundless deep doth ride,\\nOr (being wrecked) I am a worthless boat,\\nHe of tall building, and of goodly pride.\\nThen if he thrive and I be cast away,\\nThe worst was this, my love was my decay.\\n\\n\\n  \\nOr I shall live your epitaph to make,\\nOr you survive when I in earth am rotten,\\nFrom hence your memory death cannot take,\\nAlthough in me each part will be forgotten.\\nYour name from hence immortal life shall have,\\nThough I (once gone) to all the world must die,\\nThe earth can yield me but a common grave,\\nWhen you entombed in men's eyes shall lie,\\nYour monument shall be my gentle verse,\\nWhich eyes not yet created shall o'er-read,\\nAnd tongues to be, your being shall rehearse,\\nWhen all the breathers of this world are dead,\\nYou still shall live (such virtue hath my pen)\\nWhere breath most breathes, even in the mouths of men.\\n\\n\\n\\nI grant thou wert not married to my muse,\\nAnd therefore mayst without attaint o'erlook\\nThe dedicated words which writers use\\nOf their fair subject, blessing every book.  \\nThou art as fair in knowledge as in hue,\\nFinding thy worth a limit past my praise,\\nAnd therefore art enforced to seek anew,\\nSome fresher stamp of the time-bettering days.\\nAnd do so love, yet when they have devised,\\nWhat strained touches rhetoric can lend,\\nThou truly fair, wert truly sympathized,\\nIn true plain words, by thy true-telling friend.\\nAnd their gross painting might be better used,\\nWhere cheeks need blood, in thee it is abused.\\n\\n\\n\\nI never saw that you did painting need,\\nAnd therefore to your fair no painting set,\\nI found (or thought I found) you did exceed,\\nThat barren tender of a poet's debt:\\nAnd therefore have I slept in your report,\\nThat you your self being extant well might show,\\nHow far a modern quill doth come too short,\\nSpeaking of worth, what worth in you doth grow.  \\nThis silence for my sin you did impute,\\nWhich shall be most my glory being dumb,\\nFor I impair not beauty being mute,\\nWhen others would give life, and bring a tomb.\\nThere lives more life in one of your fair eyes,\\nThan both your poets can in praise devise.\\n\\n\\n\\nWho is it that says most, which can say more,\\nThan this rich praise, that you alone, are you?\\nIn whose confine immured is the store,\\nWhich should example where your equal grew.\\nLean penury within that pen doth dwell,\\nThat to his subject lends not some small glory,\\nBut he that writes of you, if he can tell,\\nThat you are you, so dignifies his story.\\nLet him but copy what in you is writ,\\nNot making worse what nature made so clear,\\nAnd such a counterpart shall fame his wit,\\nMaking his style admired every where.  \\nYou to your beauteous blessings add a curse,\\nBeing fond on praise, which makes your praises worse.\\n\\n\\n\\nMy tongue-tied muse in manners holds her still,\\nWhile comments of your praise richly compiled,\\nReserve their character with golden quill,\\nAnd precious phrase by all the Muses filed.\\nI think good thoughts, whilst other write good words,\\nAnd like unlettered clerk still cry Amen,\\nTo every hymn that able spirit affords,\\nIn polished form of well refined pen.\\nHearing you praised, I say 'tis so, 'tis true,\\nAnd to the most of praise add something more,\\nBut that is in my thought, whose love to you\\n(Though words come hindmost) holds his rank before,\\nThen others, for the breath of words respect,\\nMe for my dumb thoughts, speaking in effect.\\n\\n\\n  \\nWas it the proud full sail of his great verse,\\nBound for the prize of (all too precious) you,\\nThat did my ripe thoughts in my brain inhearse,\\nMaking their tomb the womb wherein they grew?\\nWas it his spirit, by spirits taught to write,\\nAbove a mortal pitch, that struck me dead?\\nNo, neither he, nor his compeers by night\\nGiving him aid, my verse astonished.\\nHe nor that affable familiar ghost\\nWhich nightly gulls him with intelligence,\\nAs victors of my silence cannot boast,\\nI was not sick of any fear from thence.\\nBut when your countenance filled up his line,\\nThen lacked I matter, that enfeebled mine.\\n\\n\\n\\nFarewell! thou art too dear for my possessing,\\nAnd like enough thou know'st thy estimate,\\nThe charter of thy worth gives thee releasing:\\nMy bonds in thee are all determinate.  \\nFor how do I hold thee but by thy granting,\\nAnd for that riches where is my deserving?\\nThe cause of this fair gift in me is wanting,\\nAnd so my patent back again is swerving.\\nThy self thou gav'st, thy own worth then not knowing,\\nOr me to whom thou gav'st it, else mistaking,\\nSo thy great gift upon misprision growing,\\nComes home again, on better judgement making.\\nThus have I had thee as a dream doth flatter,\\nIn sleep a king, but waking no such matter.\\n\\n\\n\\nWhen thou shalt be disposed to set me light,\\nAnd place my merit in the eye of scorn,\\nUpon thy side, against my self I'll fight,\\nAnd prove thee virtuous, though thou art forsworn:\\nWith mine own weakness being best acquainted,\\nUpon thy part I can set down a story\\nOf faults concealed, wherein I am attainted:\\nThat thou in losing me, shalt win much glory:  \\nAnd I by this will be a gainer too,\\nFor bending all my loving thoughts on thee,\\nThe injuries that to my self I do,\\nDoing thee vantage, double-vantage me.\\nSuch is my love, to thee I so belong,\\nThat for thy right, my self will bear all wrong.\\n\\n\\n\\nSay that thou didst forsake me for some fault,\\nAnd I will comment upon that offence,\\nSpeak of my lameness, and I straight will halt:\\nAgainst thy reasons making no defence.\\nThou canst not (love) disgrace me half so ill,\\nTo set a form upon desired change,\\nAs I'll my self disgrace, knowing thy will,\\nI will acquaintance strangle and look strange:\\nBe absent from thy walks and in my tongue,\\nThy sweet beloved name no more shall dwell,\\nLest I (too much profane) should do it wronk:\\nAnd haply of our old acquaintance tell.  \\nFor thee, against my self I'll vow debate,\\nFor I must ne'er love him whom thou dost hate.\\n\\n\\n\\nThen hate me when thou wilt, if ever, now,\\nNow while the world is bent my deeds to cross,\\njoin with the spite of fortune, make me bow,\\nAnd do not drop in for an after-loss:\\nAh do not, when my heart hath 'scaped this sorrow,\\nCome in the rearward of a conquered woe,\\nGive not a windy night a rainy morrow,\\nTo linger out a purposed overthrow.\\nIf thou wilt leave me, do not leave me last,\\nWhen other petty griefs have done their spite,\\nBut in the onset come, so shall I taste\\nAt first the very worst of fortune's might.\\nAnd other strains of woe, which now seem woe,\\nCompared with loss of thee, will not seem so.\\n\\n\\n  \\nSome glory in their birth, some in their skill,\\nSome in their wealth, some in their body's force,\\nSome in their garments though new-fangled ill:\\nSome in their hawks and hounds, some in their horse.\\nAnd every humour hath his adjunct pleasure,\\nWherein it finds a joy above the rest,\\nBut these particulars are not my measure,\\nAll these I better in one general best.\\nThy love is better than high birth to me,\\nRicher than wealth, prouder than garments' costs,\\nOf more delight than hawks and horses be:\\nAnd having thee, of all men's pride I boast.\\nWretched in this alone, that thou mayst take,\\nAll this away, and me most wretchcd make.\\n\\n\\n\\nBut do thy worst to steal thy self away,\\nFor term of life thou art assured mine,\\nAnd life no longer than thy love will stay,\\nFor it depends upon that love of thine.  \\nThen need I not to fear the worst of wrongs,\\nWhen in the least of them my life hath end,\\nI see, a better state to me belongs\\nThan that, which on thy humour doth depend.\\nThou canst not vex me with inconstant mind,\\nSince that my life on thy revolt doth lie,\\nO what a happy title do I find,\\nHappy to have thy love, happy to die!\\nBut what's so blessed-fair that fears no blot?\\nThou mayst be false, and yet I know it not.\\n\\n\\n\\nSo shall I live, supposing thou art true,\\nLike a deceived husband, so love's face,\\nMay still seem love to me, though altered new:\\nThy looks with me, thy heart in other place.\\nFor there can live no hatred in thine eye,\\nTherefore in that I cannot know thy change,\\nIn many's looks, the false heart's history\\nIs writ in moods and frowns and wrinkles strange.  \\nBut heaven in thy creation did decree,\\nThat in thy face sweet love should ever dwell,\\nWhate'er thy thoughts, or thy heart's workings be,\\nThy looks should nothing thence, but sweetness tell.\\nHow like Eve's apple doth thy beauty grow,\\nIf thy sweet virtue answer not thy show.\\n\\n\\n\\nThey that have power to hurt, and will do none,\\nThat do not do the thing, they most do show,\\nWho moving others, are themselves as stone,\\nUnmoved, cold, and to temptation slow:\\nThey rightly do inherit heaven's graces,\\nAnd husband nature's riches from expense,\\nTibey are the lords and owners of their faces,\\nOthers, but stewards of their excellence:\\nThe summer's flower is to the summer sweet,\\nThough to it self, it only live and die,\\nBut if that flower with base infection meet,\\nThe basest weed outbraves his dignity:  \\nFor sweetest things turn sourest by their deeds,\\nLilies that fester, smell far worse than weeds.\\n\\n\\n\\nHow sweet and lovely dost thou make the shame,\\nWhich like a canker in the fragrant rose,\\nDoth spot the beauty of thy budding name!\\nO in what sweets dost thou thy sins enclose!\\nThat tongue that tells the story of thy days,\\n(Making lascivious comments on thy sport)\\nCannot dispraise, but in a kind of praise,\\nNaming thy name, blesses an ill report.\\nO what a mansion have those vices got,\\nWhich for their habitation chose out thee,\\nWhere beauty's veil doth cover every blot,\\nAnd all things turns to fair, that eyes can see!\\nTake heed (dear heart) of this large privilege,\\nThe hardest knife ill-used doth lose his edge.\\n\\n\\n  \\nSome say thy fault is youth, some wantonness,\\nSome say thy grace is youth and gentle sport,\\nBoth grace and faults are loved of more and less:\\nThou mak'st faults graces, that to thee resort:\\nAs on the finger of a throned queen,\\nThe basest jewel will be well esteemed:\\nSo are those errors that in thee are seen,\\nTo truths translated, and for true things deemed.\\nHow many lambs might the stern wolf betray,\\nIf like a lamb he could his looks translate!\\nHow many gazers mightst thou lead away,\\nif thou wouldst use the strength of all thy state!\\nBut do not so, I love thee in such sort,\\nAs thou being mine, mine is thy good report.\\n\\n\\n\\nHow like a winter hath my absence been\\nFrom thee, the pleasure of the fleeting year!\\nWhat freezings have I felt, what dark days seen!\\nWhat old December's bareness everywhere!  \\nAnd yet this time removed was summer's time,\\nThe teeming autumn big with rich increase,\\nBearing the wanton burden of the prime,\\nLike widowed wombs after their lords' decease:\\nYet this abundant issue seemed to me\\nBut hope of orphans, and unfathered fruit,\\nFor summer and his pleasures wait on thee,\\nAnd thou away, the very birds are mute.\\nOr if they sing, 'tis with so dull a cheer,\\nThat leaves look pale, dreading the winter's near.\\n\\n\\n\\nFrom you have I been absent in the spring,\\nWhen proud-pied April (dressed in all his trim)\\nHath put a spirit of youth in every thing:\\nThat heavy Saturn laughed and leaped with him.\\nYet nor the lays of birds, nor the sweet smell\\nOf different flowers in odour and in hue,\\nCould make me any summer's story tell:\\nOr from their proud lap pluck them where they grew:  \\nNor did I wonder at the lily's white,\\nNor praise the deep vermilion in the rose,\\nThey were but sweet, but figures of delight:\\nDrawn after you, you pattern of all those.\\nYet seemed it winter still, and you away,\\nAs with your shadow I with these did play.\\n\\n\\n\\nThe forward violet thus did I chide,\\nSweet thief, whence didst thou steal thy sweet that smells,\\nIf not from my love's breath? The purple pride\\nWhich on thy soft check for complexion dwells,\\nIn my love's veins thou hast too grossly dyed.\\nThe lily I condemned for thy hand,\\nAnd buds of marjoram had stol'n thy hair,\\nThe roses fearfully on thorns did stand,\\nOne blushing shame, another white despair:\\nA third nor red, nor white, had stol'n of both,\\nAnd to his robbery had annexed thy breath,\\nBut for his theft in pride of all his growth  \\nA vengeful canker eat him up to death.\\nMore flowers I noted, yet I none could see,\\nBut sweet, or colour it had stol'n from thee.\\n\\n\\n\\nWhere art thou Muse that thou forget'st so long,\\nTo speak of that which gives thee all thy might?\\nSpend'st thou thy fury on some worthless song,\\nDarkening thy power to lend base subjects light?\\nReturn forgetful Muse, and straight redeem,\\nIn gentle numbers time so idly spent,\\nSing to the ear that doth thy lays esteem,\\nAnd gives thy pen both skill and argument.\\nRise resty Muse, my love's sweet face survey,\\nIf time have any wrinkle graven there,\\nIf any, be a satire to decay,\\nAnd make time's spoils despised everywhere.\\nGive my love fame faster than Time wastes life,\\nSo thou prevent'st his scythe, and crooked knife.\\n\\n\\n\\nO truant Muse what shall be thy amends,\\nFor thy neglect of truth in beauty dyed?\\nBoth truth and beauty on my love depends:\\nSo dost thou too, and therein dignified:\\nMake answer Muse, wilt thou not haply say,\\n'Truth needs no colour with his colour fixed,\\nBeauty no pencil, beauty's truth to lay:\\nBut best is best, if never intermixed'?\\nBecause he needs no praise, wilt thou be dumb?\\nExcuse not silence so, for't lies in thee,\\nTo make him much outlive a gilded tomb:\\nAnd to be praised of ages yet to be.\\nThen do thy office Muse, I teach thee how,\\nTo make him seem long hence, as he shows now.\\n\\n\\n\\nMy love is strengthened though more weak in seeming,\\nI love not less, though less the show appear,\\nThat love is merchandized, whose rich esteeming,  \\nThe owner's tongue doth publish every where.\\nOur love was new, and then but in the spring,\\nWhen I was wont to greet it with my lays,\\nAs Philomel in summer's front doth sing,\\nAnd stops her pipe in growth of riper days:\\nNot that the summer is less pleasant now\\nThan when her mournful hymns did hush the night,\\nBut that wild music burthens every bough,\\nAnd sweets grown common lose their dear delight.\\nTherefore like her, I sometime hold my tongue:\\nBecause I would not dull you with my song.\\n\\n\\n\\nAlack what poverty my muse brings forth,\\nThat having such a scope to show her pride,\\nThe argument all bare is of more worth\\nThan when it hath my added praise beside.\\nO blame me not if I no more can write!\\nLook in your glass and there appears a face,\\nThat over-goes my blunt invention quite,  \\nDulling my lines, and doing me disgrace.\\nWere it not sinful then striving to mend,\\nTo mar the subject that before was well?\\nFor to no other pass my verses tend,\\nThan of your graces and your gifts to tell.\\nAnd more, much more than in my verse can sit,\\nYour own glass shows you, when you look in it.\\n\\n\\n\\nTo me fair friend you never can be old,\\nFor as you were when first your eye I eyed,\\nSuch seems your beauty still: three winters cold,\\nHave from the forests shook three summers' pride,\\nThree beauteous springs to yellow autumn turned,\\nIn process of the seasons have I seen,\\nThree April perfumes in three hot Junes burned,\\nSince first I saw you fresh which yet are green.\\nAh yet doth beauty like a dial hand,\\nSteal from his figure, and no pace perceived,\\nSo your sweet hue, which methinks still doth stand  \\nHath motion, and mine eye may be deceived.\\nFor fear of which, hear this thou age unbred,\\nEre you were born was beauty's summer dead.\\n\\n\\n\\nLet not my love be called idolatry,\\nNor my beloved as an idol show,\\nSince all alike my songs and praises be\\nTo one, of one, still such, and ever so.\\nKind is my love to-day, to-morrow kind,\\nStill constant in a wondrous excellence,\\nTherefore my verse to constancy confined,\\nOne thing expressing, leaves out difference.\\nFair, kind, and true, is all my argument,\\nFair, kind, and true, varying to other words,\\nAnd in this change is my invention spent,\\nThree themes in one, which wondrous scope affords.\\nFair, kind, and true, have often lived alone.\\nWhich three till now, never kept seat in one.\\n\\n\\n\\nWhen in the chronicle of wasted time,\\nI see descriptions of the fairest wights,\\nAnd beauty making beautiful old rhyme,\\nIn praise of ladies dead, and lovely knights,\\nThen in the blazon of sweet beauty's best,\\nOf hand, of foot, of lip, of eye, of brow,\\nI see their antique pen would have expressed,\\nEven such a beauty as you master now.\\nSo all their praises are but prophecies\\nOf this our time, all you prefiguring,\\nAnd for they looked but with divining eyes,\\nThey had not skill enough your worth to sing:\\nFor we which now behold these present days,\\nHave eyes to wonder, but lack tongues to praise.\\n\\n\\n\\nNot mine own fears, nor the prophetic soul,\\nOf the wide world, dreaming on things to come,\\nCan yet the lease of my true love control,  \\nSupposed as forfeit to a confined doom.\\nThe mortal moon hath her eclipse endured,\\nAnd the sad augurs mock their own presage,\\nIncertainties now crown themselves assured,\\nAnd peace proclaims olives of endless age.\\nNow with the drops of this most balmy time,\\nMy love looks fresh, and death to me subscribes,\\nSince spite of him I'll live in this poor rhyme,\\nWhile he insults o'er dull and speechless tribes.\\nAnd thou in this shalt find thy monument,\\nWhen tyrants' crests and tombs of brass are spent.\\n\\n\\n\\nWhat's in the brain that ink may character,\\nWhich hath not figured to thee my true spirit,\\nWhat's new to speak, what now to register,\\nThat may express my love, or thy dear merit?\\nNothing sweet boy, but yet like prayers divine,\\nI must each day say o'er the very same,\\nCounting no old thing old, thou mine, I thine,  \\nEven as when first I hallowed thy fair name.\\nSo that eternal love in love's fresh case,\\nWeighs not the dust and injury of age,\\nNor gives to necessary wrinkles place,\\nBut makes antiquity for aye his page,\\nFinding the first conceit of love there bred,\\nWhere time and outward form would show it dead.\\n\\n\\n\\nO never say that I was false of heart,\\nThough absence seemed my flame to qualify,\\nAs easy might I from my self depart,\\nAs from my soul which in thy breast doth lie:\\nThat is my home of love, if I have ranged,\\nLike him that travels I return again,\\nJust to the time, not with the time exchanged,\\nSo that my self bring water for my stain,\\nNever believe though in my nature reigned,\\nAll frailties that besiege all kinds of blood,\\nThat it could so preposterously be stained,  \\nTo leave for nothing all thy sum of good:\\nFor nothing this wide universe I call,\\nSave thou my rose, in it thou art my all.\\n\\n\\n\\nAlas 'tis true, I have gone here and there,\\nAnd made my self a motley to the view,\\nGored mine own thoughts, sold cheap what is most dear,\\nMade old offences of affections new.\\nMost true it is, that I have looked on truth\\nAskance and strangely: but by all above,\\nThese blenches gave my heart another youth,\\nAnd worse essays proved thee my best of love.\\nNow all is done, have what shall have no end,\\nMine appetite I never more will grind\\nOn newer proof, to try an older friend,\\nA god in love, to whom I am confined.\\nThen give me welcome, next my heaven the best,\\nEven to thy pure and most most loving breast.\\n\\n\\n\\nO for my sake do you with Fortune chide,\\nThe guilty goddess of my harmful deeds,\\nThat did not better for my life provide,\\nThan public means which public manners breeds.\\nThence comes it that my name receives a brand,\\nAnd almost thence my nature is subdued\\nTo what it works in, like the dyer's hand:\\nPity me then, and wish I were renewed,\\nWhilst like a willing patient I will drink,\\nPotions of eisel 'gainst my strong infection,\\nNo bitterness that I will bitter think,\\nNor double penance to correct correction.\\nPity me then dear friend, and I assure ye,\\nEven that your pity is enough to cure me.\\n\\n\\n\\nYour love and pity doth th' impression fill,\\nWhich vulgar scandal stamped upon my brow,\\nFor what care I who calls me well or ill,  \\nSo you o'er-green my bad, my good allow?\\nYou are my all the world, and I must strive,\\nTo know my shames and praises from your tongue,\\nNone else to me, nor I to none alive,\\nThat my steeled sense or changes right or wrong.\\nIn so profound abysm I throw all care\\nOf others' voices, that my adder's sense,\\nTo critic and to flatterer stopped are:\\nMark how with my neglect I do dispense.\\nYou are so strongly in my purpose bred,\\nThat all the world besides methinks are dead.\\n\\n\\n\\nSince I left you, mine eye is in my mind,\\nAnd that which governs me to go about,\\nDoth part his function, and is partly blind,\\nSeems seeing, but effectually is out:\\nFor it no form delivers to the heart\\nOf bird, of flower, or shape which it doth latch,\\nOf his quick objects hath the mind no part,  \\nNor his own vision holds what it doth catch:\\nFor if it see the rud'st or gentlest sight,\\nThe most sweet favour or deformed'st creature,\\nThe mountain, or the sea, the day, or night:\\nThe crow, or dove, it shapes them to your feature.\\nIncapable of more, replete with you,\\nMy most true mind thus maketh mine untrue.\\n\\n\\n\\nOr whether doth my mind being crowned with you\\nDrink up the monarch's plague this flattery?\\nOr whether shall I say mine eye saith true,\\nAnd that your love taught it this alchemy?\\nTo make of monsters, and things indigest,\\nSuch cherubins as your sweet self resemble,\\nCreating every bad a perfect best\\nAs fast as objects to his beams assemble:\\nO 'tis the first, 'tis flattery in my seeing,\\nAnd my great mind most kingly drinks it up,\\nMine eye well knows what with his gust is 'greeing,  \\nAnd to his palate doth prepare the cup.\\nIf it be poisoned, 'tis the lesser sin,\\nThat mine eye loves it and doth first begin.\\n\\n\\n\\nThose lines that I before have writ do lie,\\nEven those that said I could not love you dearer,\\nYet then my judgment knew no reason why,\\nMy most full flame should afterwards burn clearer,\\nBut reckoning time, whose millioned accidents\\nCreep in 'twixt vows, and change decrees of kings,\\nTan sacred beauty, blunt the sharp'st intents,\\nDivert strong minds to the course of alt'ring things:\\nAlas why fearing of time's tyranny,\\nMight I not then say 'Now I love you best,'\\nWhen I was certain o'er incertainty,\\nCrowning the present, doubting of the rest?\\nLove is a babe, then might I not say so\\nTo give full growth to that which still doth grow.\\n\\n\\n\\nLet me not to the marriage of true minds\\nAdmit impediments, love is not love\\nWhich alters when it alteration finds,\\nOr bends with the remover to remove.\\nO no, it is an ever-fixed mark\\nThat looks on tempests and is never shaken;\\nIt is the star to every wand'ring bark,\\nWhose worth's unknown, although his height be taken.\\nLove's not Time's fool, though rosy lips and cheeks\\nWithin his bending sickle's compass come,\\nLove alters not with his brief hours and weeks,\\nBut bears it out even to the edge of doom:\\nIf this be error and upon me proved,\\nI never writ, nor no man ever loved.\\n\\n\\n\\nAccuse me thus, that I have scanted all,\\nWherein I should your great deserts repay,\\nForgot upon your dearest love to call,  \\nWhereto all bonds do tie me day by day,\\nThat I have frequent been with unknown minds,\\nAnd given to time your own dear-purchased right,\\nThat I have hoisted sail to all the winds\\nWhich should transport me farthest from your sight.\\nBook both my wilfulness and errors down,\\nAnd on just proof surmise, accumulate,\\nBring me within the level of your frown,\\nBut shoot not at me in your wakened hate:\\nSince my appeal says I did strive to prove\\nThe constancy and virtue of your love.\\n\\n\\n\\nLike as to make our appetite more keen\\nWith eager compounds we our palate urge,\\nAs to prevent our maladies unseen,\\nWe sicken to shun sickness when we purge.\\nEven so being full of your ne'er-cloying sweetness,\\nTo bitter sauces did I frame my feeding;\\nAnd sick of welfare found a kind of meetness,  \\nTo be diseased ere that there was true needing.\\nThus policy in love t' anticipate\\nThe ills that were not, grew to faults assured,\\nAnd brought to medicine a healthful state\\nWhich rank of goodness would by ill be cured.\\nBut thence I learn and find the lesson true,\\nDrugs poison him that so feil sick of you.\\n\\n\\n\\nWhat potions have I drunk of Siren tears\\nDistilled from limbecks foul as hell within,\\nApplying fears to hopes, and hopes to fears,\\nStill losing when I saw my self to win!\\nWhat wretched errors hath my heart committed,\\nWhilst it hath thought it self so blessed never!\\nHow have mine eyes out of their spheres been fitted\\nIn the distraction of this madding fever!\\nO benefit of ill, now I find true\\nThat better is, by evil still made better.\\nAnd ruined love when it is built anew  \\nGrows fairer than at first, more strong, far greater.\\nSo I return rebuked to my content,\\nAnd gain by ills thrice more than I have spent.\\n\\n\\n\\nThat you were once unkind befriends me now,\\nAnd for that sorrow, which I then did feel,\\nNeeds must I under my transgression bow,\\nUnless my nerves were brass or hammered steel.\\nFor if you were by my unkindness shaken\\nAs I by yours, y'have passed a hell of time,\\nAnd I a tyrant have no leisure taken\\nTo weigh how once I suffered in your crime.\\nO that our night of woe might have remembered\\nMy deepest sense, how hard true sorrow hits,\\nAnd soon to you, as you to me then tendered\\nThe humble salve, which wounded bosoms fits!\\nBut that your trespass now becomes a fee,\\nMine ransoms yours, and yours must ransom me.\\n\\n\\n\\n'Tis better to be vile than vile esteemed,\\nWhen not to be, receives reproach of being,\\nAnd the just pleasure lost, which is so deemed,\\nNot by our feeling, but by others' seeing.\\nFor why should others' false adulterate eyes\\nGive salutation to my sportive blood?\\nOr on my frailties why are frailer spies,\\nWhich in their wills count bad what I think good?\\nNo, I am that I am, and they that level\\nAt my abuses, reckon up their own,\\nI may be straight though they themselves be bevel;\\nBy their rank thoughts, my deeds must not be shown\\nUnless this general evil they maintain,\\nAll men are bad and in their badness reign.\\n\\n\\n\\nThy gift, thy tables, are within my brain\\nFull charactered with lasting memory,\\nWhich shall above that idle rank remain  \\nBeyond all date even to eternity.\\nOr at the least, so long as brain and heart\\nHave faculty by nature to subsist,\\nTill each to razed oblivion yield his part\\nOf thee, thy record never can be missed:\\nThat poor retention could not so much hold,\\nNor need I tallies thy dear love to score,\\nTherefore to give them from me was I bold,\\nTo trust those tables that receive thee more:\\nTo keep an adjunct to remember thee\\nWere to import forgetfulness in me.\\n\\n\\n\\nNo! Time, thou shalt not boast that I do change,\\nThy pyramids built up with newer might\\nTo me are nothing novel, nothing strange,\\nThey are but dressings Of a former sight:\\nOur dates are brief, and therefore we admire,\\nWhat thou dost foist upon us that is old,\\nAnd rather make them born to our desire,  \\nThan think that we before have heard them told:\\nThy registers and thee I both defy,\\nNot wond'ring at the present, nor the past,\\nFor thy records, and what we see doth lie,\\nMade more or less by thy continual haste:\\nThis I do vow and this shall ever be,\\nI will be true despite thy scythe and thee.\\n\\n\\n\\nIf my dear love were but the child of state,\\nIt might for Fortune's bastard be unfathered,\\nAs subject to time's love or to time's hate,\\nWeeds among weeds, or flowers with flowers gathered.\\nNo it was builded far from accident,\\nIt suffers not in smiling pomp, nor falls\\nUnder the blow of thralled discontent,\\nWhereto th' inviting time our fashion calls:\\nIt fears not policy that heretic,\\nWhich works on leases of short-numbered hours,\\nBut all alone stands hugely politic,  \\nThat it nor grows with heat, nor drowns with showers.\\nTo this I witness call the fools of time,\\nWhich die for goodness, who have lived for crime.\\n\\n\\n\\nWere't aught to me I bore the canopy,\\nWith my extern the outward honouring,\\nOr laid great bases for eternity,\\nWhich proves more short than waste or ruining?\\nHave I not seen dwellers on form and favour\\nLose all, and more by paying too much rent\\nFor compound sweet; forgoing simple savour,\\nPitiful thrivers in their gazing spent?\\nNo, let me be obsequious in thy heart,\\nAnd take thou my oblation, poor but free,\\nWhich is not mixed with seconds, knows no art,\\nBut mutual render, only me for thee.\\nHence, thou suborned informer, a true soul\\nWhen most impeached, stands least in thy control.\\n\\n\\n\\nO thou my lovely boy who in thy power,\\nDost hold Time's fickle glass his fickle hour:\\nWho hast by waning grown, and therein show'st,\\nThy lovers withering, as thy sweet self grow'st.\\nIf Nature (sovereign mistress over wrack)\\nAs thou goest onwards still will pluck thee back,\\nShe keeps thee to this purpose, that her skill\\nMay time disgrace, and wretched minutes kill.\\nYet fear her O thou minion of her pleasure,\\nShe may detain, but not still keep her treasure!\\nHer audit (though delayed) answered must be,\\nAnd her quietus is to render thee.\\n\\n\\n\\nIn the old age black was not counted fair,\\nOr if it were it bore not beauty's name:\\nBut now is black beauty's successive heir,\\nAnd beauty slandered with a bastard shame,\\nFor since each hand hath put on nature's power,  \\nFairing the foul with art's false borrowed face,\\nSweet beauty hath no name no holy bower,\\nBut is profaned, if not lives in disgrace.\\nTherefore my mistress' eyes are raven black,\\nHer eyes so suited, and they mourners seem,\\nAt such who not born fair no beauty lack,\\nSlandering creation with a false esteem,\\nYet so they mourn becoming of their woe,\\nThat every tongue says beauty should look so.\\n\\n\\n\\nHow oft when thou, my music, music play'st,\\nUpon that blessed wood whose motion sounds\\nWith thy sweet fingers when thou gently sway'st\\nThe wiry concord that mine ear confounds,\\nDo I envy those jacks that nimble leap,\\nTo kiss the tender inward of thy hand,\\nWhilst my poor lips which should that harvest reap,\\nAt the wood's boldness by thee blushing stand.\\nTo be so tickled they would change their state  \\nAnd situation with those dancing chips,\\nO'er whom thy fingers walk with gentle gait,\\nMaking dead wood more blest than living lips,\\nSince saucy jacks so happy are in this,\\nGive them thy fingers, me thy lips to kiss.\\n\\n\\n\\nTh' expense of spirit in a waste of shame\\nIs lust in action, and till action, lust\\nIs perjured, murd'rous, bloody full of blame,\\nSavage, extreme, rude, cruel, not to trust,\\nEnjoyed no sooner but despised straight,\\nPast reason hunted, and no sooner had\\nPast reason hated as a swallowed bait,\\nOn purpose laid to make the taker mad.\\nMad in pursuit and in possession so,\\nHad, having, and in quest, to have extreme,\\nA bliss in proof and proved, a very woe,\\nBefore a joy proposed behind a dream.\\nAll this the world well knows yet none knows well,  \\nTo shun the heaven that leads men to this hell.\\n\\n\\n\\nMy mistress' eyes are nothing like the sun,\\nCoral is far more red, than her lips red,\\nIf snow be white, why then her breasts are dun:\\nIf hairs be wires, black wires grow on her head:\\nI have seen roses damasked, red and white,\\nBut no such roses see I in her cheeks,\\nAnd in some perfumes is there more delight,\\nThan in the breath that from my mistress reeks.\\nI love to hear her speak, yet well I know,\\nThat music hath a far more pleasing sound:\\nI grant I never saw a goddess go,\\nMy mistress when she walks treads on the ground.\\nAnd yet by heaven I think my love as rare,\\nAs any she belied with false compare.\\n\\n\\n\\nThou art as tyrannous, so as thou art,  \\nAs those whose beauties proudly make them cruel;\\nFor well thou know'st to my dear doting heart\\nThou art the fairest and most precious jewel.\\nYet in good faith some say that thee behold,\\nThy face hath not the power to make love groan;\\nTo say they err, I dare not be so bold,\\nAlthough I swear it to my self alone.\\nAnd to be sure that is not false I swear,\\nA thousand groans but thinking on thy face,\\nOne on another's neck do witness bear\\nThy black is fairest in my judgment's place.\\nIn nothing art thou black save in thy deeds,\\nAnd thence this slander as I think proceeds.\\n\\n\\n\\nThine eyes I love, and they as pitying me,\\nKnowing thy heart torment me with disdain,\\nHave put on black, and loving mourners be,\\nLooking with pretty ruth upon my pain.\\nAnd truly not the morning sun of heaven  \\nBetter becomes the grey cheeks of the east,\\nNor that full star that ushers in the even\\nDoth half that glory to the sober west\\nAs those two mourning eyes become thy face:\\nO let it then as well beseem thy heart\\nTo mourn for me since mourning doth thee grace,\\nAnd suit thy pity like in every part.\\nThen will I swear beauty herself is black,\\nAnd all they foul that thy complexion lack.\\n\\n\\n\\nBeshrew that heart that makes my heart to groan\\nFor that deep wound it gives my friend and me;\\nIs't not enough to torture me alone,\\nBut slave to slavery my sweet'st friend must be?\\nMe from my self thy cruel eye hath taken,\\nAnd my next self thou harder hast engrossed,\\nOf him, my self, and thee I am forsaken,\\nA torment thrice three-fold thus to be crossed:\\nPrison my heart in thy steel bosom's ward,  \\nBut then my friend's heart let my poor heart bail,\\nWhoe'er keeps me, let my heart be his guard,\\nThou canst not then use rigour in my gaol.\\nAnd yet thou wilt, for I being pent in thee,\\nPerforce am thine and all that is in me.\\n\\n\\n\\nSo now I have confessed that he is thine,\\nAnd I my self am mortgaged to thy will,\\nMy self I'll forfeit, so that other mine,\\nThou wilt restore to be my comfort still:\\nBut thou wilt not, nor he will not be free,\\nFor thou art covetous, and he is kind,\\nHe learned but surety-like to write for me,\\nUnder that bond that him as fist doth bind.\\nThe statute of thy beauty thou wilt take,\\nThou usurer that put'st forth all to use,\\nAnd sue a friend, came debtor for my sake,\\nSo him I lose through my unkind abuse.\\nHim have I lost, thou hast both him and me,  \\nHe pays the whole, and yet am I not free.\\n\\n\\n\\nWhoever hath her wish, thou hast thy will,\\nAnd 'Will' to boot, and 'Will' in over-plus,\\nMore than enough am I that vex thee still,\\nTo thy sweet will making addition thus.\\nWilt thou whose will is large and spacious,\\nNot once vouchsafe to hide my will in thine?\\nShall will in others seem right gracious,\\nAnd in my will no fair acceptance shine?\\nThe sea all water, yet receives rain still,\\nAnd in abundance addeth to his store,\\nSo thou being rich in will add to thy will\\nOne will of mine to make thy large will more.\\nLet no unkind, no fair beseechers kill,\\nThink all but one, and me in that one 'Will.'\\n\\n\\n\\nIf thy soul check thee that I come so near,  \\nSwear to thy blind soul that I was thy 'Will',\\nAnd will thy soul knows is admitted there,\\nThus far for love, my love-suit sweet fulfil.\\n'Will', will fulfil the treasure of thy love,\\nAy, fill it full with wills, and my will one,\\nIn things of great receipt with case we prove,\\nAmong a number one is reckoned none.\\nThen in the number let me pass untold,\\nThough in thy store's account I one must be,\\nFor nothing hold me, so it please thee hold,\\nThat nothing me, a something sweet to thee.\\nMake but my name thy love, and love that still,\\nAnd then thou lov'st me for my name is Will.\\n\\n\\n\\nThou blind fool Love, what dost thou to mine eyes,\\nThat they behold and see not what they see?\\nThey know what beauty is, see where it lies,\\nYet what the best is, take the worst to be.\\nIf eyes corrupt by over-partial looks,  \\nBe anchored in the bay where all men ride,\\nWhy of eyes' falsehood hast thou forged hooks,\\nWhereto the judgment of my heart is tied?\\nWhy should my heart think that a several plot,\\nWhich my heart knows the wide world's common place?\\nOr mine eyes seeing this, say this is not\\nTo put fair truth upon so foul a face?\\nIn things right true my heart and eyes have erred,\\nAnd to this false plague are they now transferred.\\n\\n\\n\\nWhen my love swears that she is made of truth,\\nI do believe her though I know she lies,\\nThat she might think me some untutored youth,\\nUnlearned in the world's false subtleties.\\nThus vainly thinking that she thinks me young,\\nAlthough she knows my days are past the best,\\nSimply I credit her false-speaking tongue,\\nOn both sides thus is simple truth suppressed:\\nBut wherefore says she not she is unjust?  \\nAnd wherefore say not I that I am old?\\nO love's best habit is in seeming trust,\\nAnd age in love, loves not to have years told.\\nTherefore I lie with her, and she with me,\\nAnd in our faults by lies we flattered be.\\n\\n\\n\\nO call not me to justify the wrong,\\nThat thy unkindness lays upon my heart,\\nWound me not with thine eye but with thy tongue,\\nUse power with power, and slay me not by art,\\nTell me thou lov'st elsewhere; but in my sight,\\nDear heart forbear to glance thine eye aside,\\nWhat need'st thou wound with cunning when thy might\\nIs more than my o'erpressed defence can bide?\\nLet me excuse thee, ah my love well knows,\\nHer pretty looks have been mine enemies,\\nAnd therefore from my face she turns my foes,\\nThat they elsewhere might dart their injuries:\\nYet do not so, but since I am near slain,  \\nKill me outright with looks, and rid my pain.\\n\\n\\n\\nBe wise as thou art cruel, do not press\\nMy tongue-tied patience with too much disdain:\\nLest sorrow lend me words and words express,\\nThe manner of my pity-wanting pain.\\nIf I might teach thee wit better it were,\\nThough not to love, yet love to tell me so,\\nAs testy sick men when their deaths be near,\\nNo news but health from their physicians know.\\nFor if I should despair I should grow mad,\\nAnd in my madness might speak ill of thee,\\nNow this ill-wresting world is grown so bad,\\nMad slanderers by mad ears believed be.\\nThat I may not be so, nor thou belied,\\nBear thine eyes straight, though thy proud heart go wide.\\n\\n\\n\\nIn faith I do not love thee with mine eyes,  \\nFor they in thee a thousand errors note,\\nBut 'tis my heart that loves what they despise,\\nWho in despite of view is pleased to dote.\\nNor are mine cars with thy tongue's tune delighted,\\nNor tender feeling to base touches prone,\\nNor taste, nor smell, desire to be invited\\nTo any sensual feast with thee alone:\\nBut my five wits, nor my five senses can\\nDissuade one foolish heart from serving thee,\\nWho leaves unswayed the likeness of a man,\\nThy proud heart's slave and vassal wretch to be:\\nOnly my plague thus far I count my gain,\\nThat she that makes me sin, awards me pain.\\n\\n\\n\\nLove is my sin, and thy dear virtue hate,\\nHate of my sin, grounded on sinful loving,\\nO but with mine, compare thou thine own state,\\nAnd thou shalt find it merits not reproving,\\nOr if it do, not from those lips of thine,  \\nThat have profaned their scarlet ornaments,\\nAnd sealed false bonds of love as oft as mine,\\nRobbed others' beds' revenues of their rents.\\nBe it lawful I love thee as thou lov'st those,\\nWhom thine eyes woo as mine importune thee,\\nRoot pity in thy heart that when it grows,\\nThy pity may deserve to pitied be.\\nIf thou dost seek to have what thou dost hide,\\nBy self-example mayst thou be denied.\\n\\n\\n\\nLo as a careful huswife runs to catch,\\nOne of her feathered creatures broke away,\\nSets down her babe and makes all swift dispatch\\nIn pursuit of the thing she would have stay:\\nWhilst her neglected child holds her in chase,\\nCries to catch her whose busy care is bent,\\nTo follow that which flies before her face:\\nNot prizing her poor infant's discontent;\\nSo run'st thou after that which flies from thee,  \\nWhilst I thy babe chase thee afar behind,\\nBut if thou catch thy hope turn back to me:\\nAnd play the mother's part, kiss me, be kind.\\nSo will I pray that thou mayst have thy Will,\\nIf thou turn back and my loud crying still.\\n\\n\\n\\nTwo loves I have of comfort and despair,\\nWhich like two spirits do suggest me still,\\nThe better angel is a man right fair:\\nThe worser spirit a woman coloured ill.\\nTo win me soon to hell my female evil,\\nTempteth my better angel from my side,\\nAnd would corrupt my saint to be a devil:\\nWooing his purity with her foul pride.\\nAnd whether that my angel be turned fiend,\\nSuspect I may, yet not directly tell,\\nBut being both from me both to each friend,\\nI guess one angel in another's hell.\\nYet this shall I ne'er know but live in doubt,  \\nTill my bad angel fire my good one out.\\n\\n\\n\\nThose lips that Love's own hand did make,\\nBreathed forth the sound that said 'I hate',\\nTo me that languished for her sake:\\nBut when she saw my woeful state,\\nStraight in her heart did mercy come,\\nChiding that tongue that ever sweet,\\nWas used in giving gentle doom:\\nAnd taught it thus anew to greet:\\n'I hate' she altered with an end,\\nThat followed it as gentle day,\\nDoth follow night who like a fiend\\nFrom heaven to hell is flown away.\\n'I hate', from hate away she threw,\\nAnd saved my life saying 'not you'.\\n\\nPoor soul the centre of my sinful earth,  \\nMy sinful earth these rebel powers array,\\nWhy dost thou pine within and suffer dearth\\nPainting thy outward walls so costly gay?\\nWhy so large cost having so short a lease,\\nDost thou upon thy fading mansion spend?\\nShall worms inheritors of this excess\\nEat up thy charge? is this thy body's end?\\nThen soul live thou upon thy servant's loss,\\nAnd let that pine to aggravate thy store;\\nBuy terms divine in selling hours of dross;\\nWithin be fed, without be rich no more,\\nSo shall thou feed on death, that feeds on men,\\nAnd death once dead, there's no more dying then.\\n\\nMy love is as a fever longing still,\\nFor that which longer nurseth the disease,\\nFeeding on that which doth preserve the ill,\\nTh' uncertain sickly appetite to please:\\nMy reason the physician to my love,  \\nAngry that his prescriptions are not kept\\nHath left me, and I desperate now approve,\\nDesire is death, which physic did except.\\nPast cure I am, now reason is past care,\\nAnd frantic-mad with evermore unrest,\\nMy thoughts and my discourse as mad men's are,\\nAt random from the truth vainly expressed.\\nFor I have sworn thee fair, and thought thee bright,\\nWho art as black as hell, as dark as night.\\n\\nO me! what eyes hath love put in my head,\\nWhich have no correspondence with true sight,\\nOr if they have, where is my judgment fled,\\nThat censures falsely what they see aright?\\nIf that be fair whereon my false eyes dote,\\nWhat means the world to say it is not so?\\nIf it be not, then love doth well denote,\\nLove's eye is not so true as all men's: no,\\nHow can it? O how can love's eye be true,  \\nThat is so vexed with watching and with tears?\\nNo marvel then though I mistake my view,\\nThe sun it self sees not, till heaven clears.\\nO cunning love, with tears thou keep'st me blind,\\nLest eyes well-seeing thy foul faults should find.\\n\\nCanst thou O cruel, say I love thee not,\\nWhen I against my self with thee partake?\\nDo I not think on thee when I forgot\\nAm of my self, all-tyrant, for thy sake?\\nWho hateth thee that I do call my friend,\\nOn whom frown'st thou that I do fawn upon,\\nNay if thou lour'st on me do I not spend\\nRevenge upon my self with present moan?\\nWhat merit do I in my self respect,\\nThat is so proud thy service to despise,\\nWhen all my best doth worship thy defect,\\nCommanded by the motion of thine eyes?\\nBut love hate on for now I know thy mind,  \\nThose that can see thou lov'st, and I am blind.\\n\\nO from what power hast thou this powerful might,\\nWith insufficiency my heart to sway,\\nTo make me give the lie to my true sight,\\nAnd swear that brightness doth not grace the day?\\nWhence hast thou this becoming of things ill,\\nThat in the very refuse of thy deeds,\\nThere is such strength and warrantise of skill,\\nThat in my mind thy worst all best exceeds?\\nWho taught thee how to make me love thee more,\\nThe more I hear and see just cause of hate?\\nO though I love what others do abhor,\\nWith others thou shouldst not abhor my state.\\nIf thy unworthiness raised love in me,\\nMore worthy I to be beloved of thee.\\n\\nLove is too young to know what conscience is,  \\nYet who knows not conscience is born of love?\\nThen gentle cheater urge not my amiss,\\nLest guilty of my faults thy sweet self prove.\\nFor thou betraying me, I do betray\\nMy nobler part to my gross body's treason,\\nMy soul doth tell my body that he may,\\nTriumph in love, flesh stays no farther reason,\\nBut rising at thy name doth point out thee,\\nAs his triumphant prize, proud of this pride,\\nHe is contented thy poor drudge to be,\\nTo stand in thy affairs, fall by thy side.\\nNo want of conscience hold it that I call,\\nHer love, for whose dear love I rise and fall.\\n\\nIn loving thee thou know'st I am forsworn,\\nBut thou art twice forsworn to me love swearing,\\nIn act thy bed-vow broke and new faith torn,\\nIn vowing new hate after new love bearing:\\nBut why of two oaths' breach do I accuse thee,  \\nWhen I break twenty? I am perjured most,\\nFor all my vows are oaths but to misuse thee:\\nAnd all my honest faith in thee is lost.\\nFor I have sworn deep oaths of thy deep kindness:\\nOaths of thy love, thy truth, thy constancy,\\nAnd to enlighten thee gave eyes to blindness,\\nOr made them swear against the thing they see.\\nFor I have sworn thee fair: more perjured I,\\nTo swear against the truth so foul a be.\\n\\nCupid laid by his brand and fell asleep,\\nA maid of Dian's this advantage found,\\nAnd his love-kindling fire did quickly steep\\nIn a cold valley-fountain of that ground:\\nWhich borrowed from this holy fire of Love,\\nA dateless lively heat still to endure,\\nAnd grew a seeting bath which yet men prove,\\nAgainst strange maladies a sovereign cure:\\nBut at my mistress' eye Love's brand new-fired,  \\nThe boy for trial needs would touch my breast,\\nI sick withal the help of bath desired,\\nAnd thither hied a sad distempered guest.\\nBut found no cure, the bath for my help lies,\\nWhere Cupid got new fire; my mistress' eyes.\\n\\nThe little Love-god lying once asleep,\\nLaid by his side his heart-inflaming brand,\\nWhilst many nymphs that vowed chaste life to keep,\\nCame tripping by, but in her maiden hand,\\nThe fairest votary took up that fire,\\nWhich many legions of true hearts had warmed,\\nAnd so the general of hot desire,\\nWas sleeping by a virgin hand disarmed.\\nThis brand she quenched in a cool well by,\\nWhich from Love's fire took heat perpetual,\\nGrowing a bath and healthful remedy,\\nFor men discased, but I my mistress' thrall,\\nCame there for cure and this by that I prove,  \\nLove's fire heats water, water cools not love.\\n\\n\\n                THE END\""
      ]
     },
     "execution_count": 15,
     "metadata": {},
     "output_type": "execute_result"
    }
   ],
   "source": [
    "text"
   ]
  },
  {
   "cell_type": "code",
   "execution_count": 19,
   "metadata": {},
   "outputs": [
    {
     "name": "stdout",
     "output_type": "stream",
     "text": [
      "\n",
      " !'(),-.:;?ABCDEFGHIJKLMNOPRSTUVWYabcdefghijklmnopqrstuvwxyz\n",
      "61\n"
     ]
    }
   ],
   "source": [
    "chars = sorted(list(set(text)))\n",
    "vocab_size = len(chars)\n",
    "\n",
    "print(\"\".join(chars))\n",
    "print(vocab_size)"
   ]
  },
  {
   "cell_type": "code",
   "execution_count": 20,
   "metadata": {},
   "outputs": [],
   "source": [
    "stoi = { ch:i for i, ch in enumerate(chars) }\n",
    "itos = { i:ch for i, ch in enumerate(chars) }\n",
    "encode = lambda s: [stoi[c] for c in s] # encode a string into a list of integers\n",
    "decode = lambda l: ''.join([itos[i] for i in l]) # decode a list of integers into a string"
   ]
  },
  {
   "cell_type": "code",
   "execution_count": 23,
   "metadata": {},
   "outputs": [
    {
     "name": "stdout",
     "output_type": "stream",
     "text": [
      "[19, 39, 46, 46, 49, 1, 57, 49, 52, 46, 38, 2]\n",
      "Hello world!\n"
     ]
    }
   ],
   "source": [
    "print(encode(\"Hello world!\"))\n",
    "print(decode(encode(\"Hello world!\")))"
   ]
  },
  {
   "cell_type": "code",
   "execution_count": 28,
   "metadata": {},
   "outputs": [
    {
     "name": "stdout",
     "output_type": "stream",
     "text": [
      "torch.Size([94275])\n",
      "tensor([30, 19, 16,  1, 29, 26, 25, 25, 16, 30, 29,  0,  0, 36, 59,  1, 33, 43,\n",
      "        46, 46, 43, 35, 47,  1, 29, 42, 35, 45, 39, 53, 50, 39, 35, 52, 39,  0,\n",
      "         0, 17, 52, 49, 47,  1, 40, 35, 43, 52, 39, 53, 54,  1, 37, 52, 39, 35,\n",
      "        54, 55, 52, 39, 53,  1, 57, 39,  1, 38, 39, 53, 43, 52, 39,  1, 43, 48,\n",
      "        37, 52, 39, 35, 53, 39,  6,  0, 30, 42, 35, 54,  1, 54, 42, 39, 52, 39,\n",
      "        36, 59,  1, 36, 39, 35, 55, 54, 59,  3, 53,  1, 52, 49, 53, 39,  1, 47,\n",
      "        43, 41, 42, 54,  1, 48, 39, 56, 39, 52,  1, 38, 43, 39,  6,  0, 13, 55,\n",
      "        54,  1, 35, 53,  1, 54, 42, 39,  1, 52, 43, 50, 39, 52,  1, 53, 42, 49,\n",
      "        55, 46, 38,  1, 36, 59,  1, 54, 43, 47, 39,  1, 38, 39, 37, 39, 35, 53,\n",
      "        39,  6,  0, 19, 43, 53,  1, 54, 39, 48, 38, 39, 52,  1, 42, 39, 43, 52,\n",
      "         1, 47, 43, 41, 42, 54,  1, 36, 39, 35, 52,  1, 42, 43, 53,  1, 47, 39,\n",
      "        47, 49, 52, 59,  9,  0, 13, 55, 54,  1, 54, 42, 49, 55,  1, 37, 49, 48,\n",
      "        54, 52, 35, 37, 54, 39, 38,  1, 54, 49,  1, 54, 42, 43, 48, 39,  1, 49,\n",
      "        57, 48,  1, 36, 52, 43, 41, 42, 54,  1, 39, 59, 39, 53,  6,  0, 17, 39,\n",
      "        39, 38,  3, 53, 54,  1, 54, 42, 59,  1, 46, 43, 41, 42, 54,  3, 53,  1,\n",
      "        40, 46, 35, 47, 39,  1, 57, 43, 54, 42,  1, 53, 39, 46, 40,  7, 53, 55,\n",
      "        36, 53, 54, 35, 48, 54, 43, 35, 46,  1, 40, 55, 39, 46,  6,  0, 24, 35,\n",
      "        45, 43, 48, 41,  1, 35,  1, 40, 35, 47, 43, 48, 39,  1, 57, 42, 39, 52,\n",
      "        39,  1, 35, 36, 55, 48, 38, 35, 48, 37, 39,  1, 46, 43, 39, 53,  6,  0,\n",
      "        30, 42, 59,  1, 53, 39, 46, 40,  1, 54, 42, 59,  1, 40, 49, 39,  6,  1,\n",
      "        54, 49,  1, 54, 42, 59,  1, 53, 57, 39, 39, 54,  1, 53, 39, 46, 40,  1,\n",
      "        54, 49, 49,  1, 37, 52, 55, 39, 46,  9,  0, 30, 42, 49, 55,  1, 54, 42,\n",
      "        35, 54,  1, 35, 52, 54,  1, 48, 49, 57,  1, 54, 42, 39,  1, 57, 49, 52,\n",
      "        46, 38,  3, 53,  1, 40, 52, 39, 53, 42,  1, 49, 52, 48, 35, 47, 39, 48,\n",
      "        54,  6,  0, 12, 48, 38,  1, 49, 48, 46, 59,  1, 42, 39, 52, 35, 46, 38,\n",
      "         1, 54, 49,  1, 54, 42, 39,  1, 41, 35, 55, 38, 59,  1, 53, 50, 52, 43,\n",
      "        48, 41,  6,  0, 33, 43, 54, 42, 43, 48,  1, 54, 42, 43, 48, 39,  1, 49,\n",
      "        57, 48,  1, 36, 55, 38,  1, 36, 55, 52, 43, 39, 53, 54,  1, 54, 42, 59,\n",
      "         1, 37, 49, 48, 54, 39, 48, 54,  6,  0, 12, 48, 38,  1, 54, 39, 48, 38,\n",
      "        39, 52,  1, 37, 42, 55, 52, 46,  1, 47, 35, 45,  3, 53, 54,  1, 57, 35,\n",
      "        53, 54, 39,  1, 43, 48,  1, 48, 43, 41, 41, 35, 52, 38, 43, 48, 41,  9,\n",
      "         0, 27, 43, 54, 59,  1, 54, 42, 39,  1, 57, 49, 52, 46, 38,  6,  1, 49,\n",
      "        52,  1, 39, 46, 53, 39,  1, 54, 42, 43, 53,  1, 41, 46, 55, 54, 54, 49,\n",
      "        48,  1, 36, 39,  6,  0, 30, 49,  1, 39, 35, 54,  1, 54, 42, 39,  1, 57,\n",
      "        49, 52, 46, 38,  3, 53,  1, 38, 55, 39,  6,  1, 36, 59,  1, 54, 42, 39,\n",
      "         1, 41, 52, 35, 56, 39,  1, 35, 48, 38,  1, 54, 42, 39, 39,  8,  0,  0,\n",
      "        33, 42, 39, 48,  1, 40, 49, 52, 54, 59,  1, 57, 43, 48, 54, 39, 52, 53,\n",
      "         1, 53, 42, 35, 46, 46,  1, 36, 39, 53, 43, 39, 41, 39,  1, 54, 42, 59,\n",
      "         1, 36, 52, 49, 57,  6,  0, 12, 48, 38,  1, 38, 43, 41,  1, 38, 39, 39,\n",
      "        50,  1, 54, 52, 39, 48, 37, 42, 39, 53,  1, 43, 48,  1, 54, 42, 59,  1,\n",
      "        36, 39, 35, 55, 54, 59,  3, 53,  1, 40, 43, 39, 46, 38,  6,  0, 30, 42,\n",
      "        59,  1, 59, 49, 55, 54, 42,  3, 53,  1, 50, 52, 49, 55, 38,  1, 46, 43,\n",
      "        56, 39, 52, 59,  1, 53, 49,  1, 41, 35, 60, 39, 38,  1, 49, 48,  1, 48,\n",
      "        49, 57,  6,  0, 33, 43, 46, 46,  1, 36, 39,  1, 35,  1, 54, 35, 54, 54,\n",
      "        39, 52, 39, 38,  1, 57, 39, 39, 38,  1, 49, 40,  1, 53, 47, 35, 46, 46,\n",
      "         1, 57, 49, 52, 54, 42,  1, 42, 39, 46, 38,  9,  1,  1,  0, 30, 42, 39,\n",
      "        48,  1, 36, 39, 43, 48, 41,  1, 35, 53, 45, 39, 38,  6,  1, 57, 42, 39,\n",
      "        52, 39,  1, 35, 46, 46,  1, 54, 42, 59,  1, 36, 39, 35, 55, 54, 59,  1,\n",
      "        46, 43, 39, 53,  6,  0, 33, 42, 39, 52, 39,  1, 35, 46, 46,  1, 54, 42,\n",
      "        39,  1, 54, 52, 39, 35, 53, 55, 52, 39,  1, 49, 40,  1, 54, 42, 59,  1,\n",
      "        46, 55, 53, 54, 59,  1, 38, 35, 59, 53, 10,  0, 30, 49,  1, 53, 35, 59,\n",
      "         1, 57, 43, 54, 42, 43, 48,  1, 54, 42, 43, 48, 39,  1, 49, 57, 48,  1,\n",
      "        38, 39, 39, 50,  1, 53, 55, 48, 45, 39, 48,  1, 39, 59, 39, 53,  6,  0,\n",
      "        33, 39, 52, 39,  1, 35, 48,  1, 35, 46, 46,  7, 39, 35, 54, 43, 48, 41,\n",
      "         1, 53, 42, 35, 47, 39,  6,  1, 35, 48, 38,  1, 54, 42, 52, 43, 40, 54,\n",
      "        46, 39, 53, 53,  1, 50, 52, 35, 43, 53])\n"
     ]
    }
   ],
   "source": [
    "import torch\n",
    "data = torch.tensor(encode(text), dtype=torch.long)\n",
    "print(data.shape)\n",
    "print(data[:1000])"
   ]
  },
  {
   "cell_type": "code",
   "execution_count": 29,
   "metadata": {},
   "outputs": [],
   "source": [
    "n = int(0.9 * len(data))\n",
    "train_data = data[:n] # first 90% will be train, rest val\n",
    "val_data = data[n:]"
   ]
  },
  {
   "cell_type": "code",
   "execution_count": 30,
   "metadata": {},
   "outputs": [
    {
     "data": {
      "text/plain": [
       "tensor([30, 19, 16,  1, 29, 26, 25, 25, 16])"
      ]
     },
     "execution_count": 30,
     "metadata": {},
     "output_type": "execute_result"
    }
   ],
   "source": [
    "block_size = 8\n",
    "train_data[:block_size+1]"
   ]
  },
  {
   "cell_type": "code",
   "execution_count": 31,
   "metadata": {},
   "outputs": [
    {
     "name": "stdout",
     "output_type": "stream",
     "text": [
      "when input is tensor([30]) the target: 19\n",
      "when input is tensor([30, 19]) the target: 16\n",
      "when input is tensor([30, 19, 16]) the target: 1\n",
      "when input is tensor([30, 19, 16,  1]) the target: 29\n",
      "when input is tensor([30, 19, 16,  1, 29]) the target: 26\n",
      "when input is tensor([30, 19, 16,  1, 29, 26]) the target: 25\n",
      "when input is tensor([30, 19, 16,  1, 29, 26, 25]) the target: 25\n",
      "when input is tensor([30, 19, 16,  1, 29, 26, 25, 25]) the target: 16\n"
     ]
    }
   ],
   "source": [
    "x = train_data[:block_size]\n",
    "y = train_data[1:block_size+1]\n",
    "for t in range(block_size):\n",
    "    context = x[:t+1]\n",
    "    target = y[t]\n",
    "    print(f\"when input is {context} the target: {target}\")"
   ]
  },
  {
   "cell_type": "code",
   "execution_count": 33,
   "metadata": {},
   "outputs": [
    {
     "name": "stdout",
     "output_type": "stream",
     "text": [
      "inputs:\n",
      "torch.Size([4, 8])\n",
      "tensor([[54, 42, 59,  1, 46, 49, 56, 39],\n",
      "        [42,  1, 54, 42, 39,  1, 38, 52],\n",
      "        [ 1, 53, 35, 47, 39,  1, 41, 52],\n",
      "        [52, 49, 55, 41, 42, 54,  0, 30]])\n",
      "targets:\n",
      "torch.Size([4, 8])\n",
      "tensor([[42, 59,  1, 46, 49, 56, 39,  6],\n",
      "        [ 1, 54, 42, 39,  1, 38, 52, 49],\n",
      "        [53, 35, 47, 39,  1, 41, 52, 49],\n",
      "        [49, 55, 41, 42, 54,  0, 30, 49]])\n",
      "---\n",
      "when input it [54] then target: 42\n",
      "when input it [54, 42] then target: 59\n",
      "when input it [54, 42, 59] then target: 1\n",
      "when input it [54, 42, 59, 1] then target: 46\n",
      "when input it [54, 42, 59, 1, 46] then target: 49\n",
      "when input it [54, 42, 59, 1, 46, 49] then target: 56\n",
      "when input it [54, 42, 59, 1, 46, 49, 56] then target: 39\n",
      "when input it [54, 42, 59, 1, 46, 49, 56, 39] then target: 6\n",
      "when input it [42] then target: 1\n",
      "when input it [42, 1] then target: 54\n",
      "when input it [42, 1, 54] then target: 42\n",
      "when input it [42, 1, 54, 42] then target: 39\n",
      "when input it [42, 1, 54, 42, 39] then target: 1\n",
      "when input it [42, 1, 54, 42, 39, 1] then target: 38\n",
      "when input it [42, 1, 54, 42, 39, 1, 38] then target: 52\n",
      "when input it [42, 1, 54, 42, 39, 1, 38, 52] then target: 49\n",
      "when input it [1] then target: 53\n",
      "when input it [1, 53] then target: 35\n",
      "when input it [1, 53, 35] then target: 47\n",
      "when input it [1, 53, 35, 47] then target: 39\n",
      "when input it [1, 53, 35, 47, 39] then target: 1\n",
      "when input it [1, 53, 35, 47, 39, 1] then target: 41\n",
      "when input it [1, 53, 35, 47, 39, 1, 41] then target: 52\n",
      "when input it [1, 53, 35, 47, 39, 1, 41, 52] then target: 49\n",
      "when input it [52] then target: 49\n",
      "when input it [52, 49] then target: 55\n",
      "when input it [52, 49, 55] then target: 41\n",
      "when input it [52, 49, 55, 41] then target: 42\n",
      "when input it [52, 49, 55, 41, 42] then target: 54\n",
      "when input it [52, 49, 55, 41, 42, 54] then target: 0\n",
      "when input it [52, 49, 55, 41, 42, 54, 0] then target: 30\n",
      "when input it [52, 49, 55, 41, 42, 54, 0, 30] then target: 49\n"
     ]
    }
   ],
   "source": [
    "torch.manual_seed(1337)\n",
    "batch_size = 4 # how many independent sequences we process in parallel\n",
    "block_size = 8 # maximum context length for predictions\n",
    "\n",
    "def get_batch(split):\n",
    "    data = train_data if split == \"train\" else val_data\n",
    "    ix = torch.randint(len(data) - block_size, (batch_size,))\n",
    "    x = torch.stack([data[i:i+block_size] for i in ix])\n",
    "    y = torch.stack([data[i+1:i+block_size+1] for i in ix])\n",
    "    return x, y\n",
    "\n",
    "xb, yb = get_batch(\"train\")\n",
    "print(\"inputs:\")\n",
    "print(xb.shape)\n",
    "print(xb)\n",
    "print(\"targets:\")\n",
    "print(yb.shape)\n",
    "print(yb)\n",
    "\n",
    "print(\"---\")\n",
    "\n",
    "for b in range(batch_size):\n",
    "    for t in range(block_size):\n",
    "        context = xb[b, :t+1]\n",
    "        target = yb[b, t]\n",
    "        print(f\"when input it {context.tolist()} then target: {target}\")"
   ]
  },
  {
   "cell_type": "code",
   "execution_count": 48,
   "metadata": {},
   "outputs": [
    {
     "name": "stdout",
     "output_type": "stream",
     "text": [
      "torch.Size([32, 61])\n",
      "tensor(4.3165, grad_fn=<NllLossBackward0>)\n",
      "\n",
      "PkW\n",
      "DPi,ozKIgI\n",
      "?YnTs,,HI(fjt HbzpTEIqA(!k!mio:q-F-hHCD: nAti(mIc.qAwjV,u\n",
      "s,uHd,o,uC nnn!-;HG).BMSE E\n"
     ]
    }
   ],
   "source": [
    "import torch\n",
    "import torch.nn as nn\n",
    "from torch.nn import functional as F\n",
    "torch.manual_seed(1337)\n",
    "\n",
    "class BigramLanguageModel(nn.Module):\n",
    "\n",
    "    def __init__(self, vocab_size):\n",
    "        super().__init__()\n",
    "        self.token_embedding_table = nn.Embedding(vocab_size, vocab_size)\n",
    "\n",
    "    def forward(self, idx, targets=None):\n",
    "\n",
    "        # idx and targets are both (B, T) tensor of integers\n",
    "        logits = self.token_embedding_table(idx) # (B,T,C)\n",
    "\n",
    "        if targets is None:\n",
    "            loss = None\n",
    "        else:\n",
    "            B, T, C = logits.shape\n",
    "            logits = logits.view(B*T, C)\n",
    "            targets = targets.view(B*T)\n",
    "            loss = F.cross_entropy(logits, targets)\n",
    "\n",
    "        return logits, loss\n",
    "    \n",
    "    def generate(self, idx, max_new_tokens):\n",
    "        for _ in range(max_new_tokens):\n",
    "            logits, loss = self(idx)\n",
    "            logits = logits[:, -1, :]\n",
    "            probs = F.softmax(logits, dim=1)\n",
    "            idx_next = torch.multinomial(probs, num_samples=1)\n",
    "            idx = torch.cat((idx, idx_next), dim=1)\n",
    "        return idx\n",
    "    \n",
    "m = BigramLanguageModel(vocab_size)\n",
    "logits, loss = m(xb, yb)\n",
    "print(logits.shape)\n",
    "print(loss)\n",
    "\n",
    "idx = torch.zeros((1, 1), dtype=torch.long)\n",
    "print(decode(m.generate(idx, max_new_tokens=100)[0].tolist()))"
   ]
  },
  {
   "cell_type": "code",
   "execution_count": 49,
   "metadata": {},
   "outputs": [],
   "source": [
    "optimizer = torch.optim.AdamW(m.parameters(), lr=1e-3)"
   ]
  },
  {
   "cell_type": "code",
   "execution_count": 67,
   "metadata": {},
   "outputs": [
    {
     "name": "stdout",
     "output_type": "stream",
     "text": [
      "2.4145429134368896\n"
     ]
    }
   ],
   "source": [
    "batch_size = 32\n",
    "\n",
    "for steps in range(10000):\n",
    "    xb, yb = get_batch(\"train\")\n",
    "\n",
    "    logits, loss = m(xb, yb)\n",
    "    optimizer.zero_grad(set_to_none=True)\n",
    "    loss.backward()\n",
    "    optimizer.step()\n",
    "\n",
    "print(loss.item())"
   ]
  },
  {
   "cell_type": "code",
   "execution_count": 68,
   "metadata": {},
   "outputs": [
    {
     "name": "stdout",
     "output_type": "stream",
     "text": [
      "\n",
      "Tatheserie.\n",
      "\n",
      "\n",
      "Whak sue tundutw peplece bet beay myost Inavewinkedspu,\n",
      "No l,\n",
      "Winexe'senstthursegichys wazeane schou mu id heme, me bene th'suryes arstearer ouew, whon stetr f din se t,\n",
      "Sune trillo wove h, o wt theiowate w is the,\n",
      "Nofr jugu mby celike Feathye \n",
      "Yosuer wof s t oont) wndossuee s,\n",
      "Ayothenthanere,\n",
      "\n",
      "I clle nd ble!\n",
      "Thoney'sof se hedom foudelewangeng hat our m I she oreaveg ays oung nd te,\n",
      "\n"
     ]
    }
   ],
   "source": [
    "idx = torch.zeros((1, 1), dtype=torch.long)\n",
    "print(decode(m.generate(idx, max_new_tokens=400)[0].tolist()))"
   ]
  },
  {
   "cell_type": "code",
   "execution_count": 69,
   "metadata": {},
   "outputs": [
    {
     "name": "stderr",
     "output_type": "stream",
     "text": [
      "'wget' is not recognized as an internal or external command,\n",
      "operable program or batch file.\n"
     ]
    }
   ],
   "source": [
    "!wget https://raw.githubusercontent.com/karpathy/char-rnn/master/data/tinyshakespeare/input.txt"
   ]
  },
  {
   "cell_type": "code",
   "execution_count": 70,
   "metadata": {},
   "outputs": [
    {
     "data": {
      "text/plain": [
       "torch.Size([4, 8, 2])"
      ]
     },
     "execution_count": 70,
     "metadata": {},
     "output_type": "execute_result"
    }
   ],
   "source": [
    "# The mathematical trick in self-attention\n",
    "\n",
    "torch.manual_seed(1337)\n",
    "B,T,C = 4,8,2 # batch,time,channel\n",
    "x = torch.randn(B,T,C)\n",
    "x.shape"
   ]
  },
  {
   "cell_type": "code",
   "execution_count": 73,
   "metadata": {},
   "outputs": [],
   "source": [
    "xbow = torch.zeros((B,T,C))\n",
    "for b in range(B):\n",
    "    for t in range(T):\n",
    "        xprev = x[b,:t+1] # (t, C)\n",
    "        # averaging tokens like this results in a lot of loss of information, such as sequential information (where are the characters related to each other)\n",
    "        xbow[b, t] = torch.mean(xprev, 0)"
   ]
  },
  {
   "cell_type": "code",
   "execution_count": 72,
   "metadata": {},
   "outputs": [
    {
     "data": {
      "text/plain": [
       "tensor([[[ 0.1808, -0.0700],\n",
       "         [-0.0894, -0.4926],\n",
       "         [ 0.1490, -0.3199],\n",
       "         [ 0.3504, -0.2238],\n",
       "         [ 0.3525,  0.0545],\n",
       "         [ 0.0688, -0.0396],\n",
       "         [ 0.0927, -0.0682],\n",
       "         [-0.0341,  0.1332]],\n",
       "\n",
       "        [[ 1.3488, -0.1396],\n",
       "         [ 0.8173,  0.4127],\n",
       "         [-0.1342,  0.4395],\n",
       "         [ 0.2711,  0.4774],\n",
       "         [ 0.2421,  0.0694],\n",
       "         [ 0.0084,  0.0020],\n",
       "         [ 0.0712, -0.1128],\n",
       "         [ 0.2527,  0.2149]],\n",
       "\n",
       "        [[-0.6631, -0.2513],\n",
       "         [ 0.1735, -0.0649],\n",
       "         [ 0.1685,  0.3348],\n",
       "         [-0.1621,  0.1765],\n",
       "         [-0.2312, -0.0436],\n",
       "         [-0.1015, -0.2855],\n",
       "         [-0.2593, -0.1630],\n",
       "         [-0.3015, -0.2293]],\n",
       "\n",
       "        [[ 1.6455, -0.8030],\n",
       "         [ 1.4985, -0.5395],\n",
       "         [ 0.4954,  0.3420],\n",
       "         [ 1.0623, -0.1802],\n",
       "         [ 1.1401, -0.4462],\n",
       "         [ 1.0870, -0.4071],\n",
       "         [ 1.0430, -0.1299],\n",
       "         [ 1.1138, -0.1641]]])"
      ]
     },
     "execution_count": 72,
     "metadata": {},
     "output_type": "execute_result"
    }
   ],
   "source": [
    "xbow"
   ]
  },
  {
   "cell_type": "code",
   "execution_count": 75,
   "metadata": {},
   "outputs": [
    {
     "data": {
      "text/plain": [
       "tensor([[17., 12.],\n",
       "        [17., 12.],\n",
       "        [17., 12.]])"
      ]
     },
     "execution_count": 75,
     "metadata": {},
     "output_type": "execute_result"
    }
   ],
   "source": [
    "a = torch.ones(3,3)\n",
    "b = torch.randint(0, 10, (3,2)).float()\n",
    "c = a @ b\n",
    "c"
   ]
  },
  {
   "cell_type": "code",
   "execution_count": 76,
   "metadata": {},
   "outputs": [
    {
     "data": {
      "text/plain": [
       "tensor([[1., 0., 0.],\n",
       "        [1., 1., 0.],\n",
       "        [1., 1., 1.]])"
      ]
     },
     "execution_count": 76,
     "metadata": {},
     "output_type": "execute_result"
    }
   ],
   "source": [
    "torch.tril(torch.ones(3, 3))"
   ]
  },
  {
   "cell_type": "code",
   "execution_count": 79,
   "metadata": {},
   "outputs": [
    {
     "name": "stdout",
     "output_type": "stream",
     "text": [
      "tensor([[1.0000, 0.0000, 0.0000],\n",
      "        [0.5000, 0.5000, 0.0000],\n",
      "        [0.3333, 0.3333, 0.3333]])\n",
      "tensor([[4., 1.],\n",
      "        [6., 8.],\n",
      "        [6., 9.]])\n",
      "tensor([[4.0000, 1.0000],\n",
      "        [5.0000, 4.5000],\n",
      "        [5.3333, 6.0000]])\n"
     ]
    }
   ],
   "source": [
    "a = torch.tril(torch.ones(3,3))\n",
    "a = a / torch.sum(a, 1, keepdim=True)\n",
    "b = torch.randint(0, 10, (3,2)).float()\n",
    "print(a)\n",
    "print(b)\n",
    "c = a @ b\n",
    "print(c)"
   ]
  },
  {
   "cell_type": "code",
   "execution_count": 81,
   "metadata": {},
   "outputs": [],
   "source": [
    "# vectorize the averaging operations\n",
    "\n",
    "wei = torch.tril(torch.ones(T, T))\n",
    "wei = wei / wei.sum(1, keepdim=True)\n",
    "xbow2 = wei @ x # (impl. B, T, T) @ (B, T, C) --> ()"
   ]
  },
  {
   "cell_type": "code",
   "execution_count": 83,
   "metadata": {},
   "outputs": [
    {
     "data": {
      "text/plain": [
       "True"
      ]
     },
     "execution_count": 83,
     "metadata": {},
     "output_type": "execute_result"
    }
   ],
   "source": [
    "torch.allclose(xbow, xbow2)"
   ]
  },
  {
   "cell_type": "code",
   "execution_count": 85,
   "metadata": {},
   "outputs": [
    {
     "name": "stdout",
     "output_type": "stream",
     "text": [
      "tensor([[ 0.1808, -0.0700],\n",
      "        [-0.0894, -0.4926],\n",
      "        [ 0.1490, -0.3199],\n",
      "        [ 0.3504, -0.2238],\n",
      "        [ 0.3525,  0.0545],\n",
      "        [ 0.0688, -0.0396],\n",
      "        [ 0.0927, -0.0682],\n",
      "        [-0.0341,  0.1332]])\n",
      "tensor([[ 0.1808, -0.0700],\n",
      "        [-0.0894, -0.4926],\n",
      "        [ 0.1490, -0.3199],\n",
      "        [ 0.3504, -0.2238],\n",
      "        [ 0.3525,  0.0545],\n",
      "        [ 0.0688, -0.0396],\n",
      "        [ 0.0927, -0.0682],\n",
      "        [-0.0341,  0.1332]])\n"
     ]
    }
   ],
   "source": [
    "print(xbow[0])\n",
    "print(xbow2[0])"
   ]
  },
  {
   "cell_type": "code",
   "execution_count": 86,
   "metadata": {},
   "outputs": [],
   "source": [
    "# even better"
   ]
  },
  {
   "cell_type": "code",
   "execution_count": 87,
   "metadata": {},
   "outputs": [
    {
     "data": {
      "text/plain": [
       "True"
      ]
     },
     "execution_count": 87,
     "metadata": {},
     "output_type": "execute_result"
    }
   ],
   "source": [
    "tril = torch.tril(torch.ones(T, T))\n",
    "wei = torch.zeros((T, T))\n",
    "wei = wei.masked_fill(tril == 0, float('-inf'))\n",
    "wei = F.softmax(wei, dim=1)\n",
    "xbow3 = wei @ x\n",
    "\n",
    "torch.allclose(xbow, xbow3)"
   ]
  },
  {
   "cell_type": "code",
   "execution_count": 91,
   "metadata": {},
   "outputs": [
    {
     "data": {
      "text/plain": [
       "tensor([[1., 0., 0., 0., 0., 0., 0., 0.],\n",
       "        [1., 1., 0., 0., 0., 0., 0., 0.],\n",
       "        [1., 1., 1., 0., 0., 0., 0., 0.],\n",
       "        [1., 1., 1., 1., 0., 0., 0., 0.],\n",
       "        [1., 1., 1., 1., 1., 0., 0., 0.],\n",
       "        [1., 1., 1., 1., 1., 1., 0., 0.],\n",
       "        [1., 1., 1., 1., 1., 1., 1., 0.],\n",
       "        [1., 1., 1., 1., 1., 1., 1., 1.]])"
      ]
     },
     "execution_count": 91,
     "metadata": {},
     "output_type": "execute_result"
    }
   ],
   "source": [
    "tril = torch.tril(torch.ones(T, T))\n",
    "tril"
   ]
  },
  {
   "cell_type": "code",
   "execution_count": 92,
   "metadata": {},
   "outputs": [
    {
     "data": {
      "text/plain": [
       "tensor([[0., 0., 0., 0., 0., 0., 0., 0.],\n",
       "        [0., 0., 0., 0., 0., 0., 0., 0.],\n",
       "        [0., 0., 0., 0., 0., 0., 0., 0.],\n",
       "        [0., 0., 0., 0., 0., 0., 0., 0.],\n",
       "        [0., 0., 0., 0., 0., 0., 0., 0.],\n",
       "        [0., 0., 0., 0., 0., 0., 0., 0.],\n",
       "        [0., 0., 0., 0., 0., 0., 0., 0.],\n",
       "        [0., 0., 0., 0., 0., 0., 0., 0.]])"
      ]
     },
     "execution_count": 92,
     "metadata": {},
     "output_type": "execute_result"
    }
   ],
   "source": [
    "wei = torch.zeros((T, T))\n",
    "wei"
   ]
  },
  {
   "cell_type": "code",
   "execution_count": 97,
   "metadata": {},
   "outputs": [
    {
     "data": {
      "text/plain": [
       "tensor([[0., -inf, -inf, -inf, -inf, -inf, -inf, -inf],\n",
       "        [0., 0., -inf, -inf, -inf, -inf, -inf, -inf],\n",
       "        [0., 0., 0., -inf, -inf, -inf, -inf, -inf],\n",
       "        [0., 0., 0., 0., -inf, -inf, -inf, -inf],\n",
       "        [0., 0., 0., 0., 0., -inf, -inf, -inf],\n",
       "        [0., 0., 0., 0., 0., 0., -inf, -inf],\n",
       "        [0., 0., 0., 0., 0., 0., 0., -inf],\n",
       "        [0., 0., 0., 0., 0., 0., 0., 0.]])"
      ]
     },
     "execution_count": 97,
     "metadata": {},
     "output_type": "execute_result"
    }
   ],
   "source": [
    "tril = torch.tril(torch.ones(T, T))\n",
    "wei = torch.zeros((T, T))\n",
    "wei = wei.masked_fill(tril == 0, float('-inf'))\n",
    "wei"
   ]
  },
  {
   "cell_type": "code",
   "execution_count": 98,
   "metadata": {},
   "outputs": [
    {
     "data": {
      "text/plain": [
       "tensor([[1.0000, 0.0000, 0.0000, 0.0000, 0.0000, 0.0000, 0.0000, 0.0000],\n",
       "        [0.5000, 0.5000, 0.0000, 0.0000, 0.0000, 0.0000, 0.0000, 0.0000],\n",
       "        [0.3333, 0.3333, 0.3333, 0.0000, 0.0000, 0.0000, 0.0000, 0.0000],\n",
       "        [0.2500, 0.2500, 0.2500, 0.2500, 0.0000, 0.0000, 0.0000, 0.0000],\n",
       "        [0.2000, 0.2000, 0.2000, 0.2000, 0.2000, 0.0000, 0.0000, 0.0000],\n",
       "        [0.1667, 0.1667, 0.1667, 0.1667, 0.1667, 0.1667, 0.0000, 0.0000],\n",
       "        [0.1429, 0.1429, 0.1429, 0.1429, 0.1429, 0.1429, 0.1429, 0.0000],\n",
       "        [0.1250, 0.1250, 0.1250, 0.1250, 0.1250, 0.1250, 0.1250, 0.1250]])"
      ]
     },
     "execution_count": 98,
     "metadata": {},
     "output_type": "execute_result"
    }
   ],
   "source": [
    "F.softmax(wei, dim=-1)"
   ]
  },
  {
   "cell_type": "code",
   "execution_count": 100,
   "metadata": {},
   "outputs": [
    {
     "data": {
      "text/plain": [
       "torch.Size([4, 8, 32])"
      ]
     },
     "execution_count": 100,
     "metadata": {},
     "output_type": "execute_result"
    }
   ],
   "source": [
    "torch.manual_seed(1337)\n",
    "B,T,C = 4,8,32 # batch, time, channels\n",
    "x = torch.randn(B,T,C)\n",
    "\n",
    "tril = torch.tril(torch.ones(T, T))\n",
    "wei = torch.zeros((T, T))\n",
    "wei = wei.masked_fill(tril == 0, float(\"-inf\"))\n",
    "wei = F.softmax(wei, dim=-1)\n",
    "out = wei @ x\n",
    "\n",
    "out.shape"
   ]
  },
  {
   "cell_type": "code",
   "execution_count": 101,
   "metadata": {},
   "outputs": [
    {
     "data": {
      "text/plain": [
       "tensor([[1., 0., 0., 0., 0., 0., 0., 0.],\n",
       "        [1., 1., 0., 0., 0., 0., 0., 0.],\n",
       "        [1., 1., 1., 0., 0., 0., 0., 0.],\n",
       "        [1., 1., 1., 1., 0., 0., 0., 0.],\n",
       "        [1., 1., 1., 1., 1., 0., 0., 0.],\n",
       "        [1., 1., 1., 1., 1., 1., 0., 0.],\n",
       "        [1., 1., 1., 1., 1., 1., 1., 0.],\n",
       "        [1., 1., 1., 1., 1., 1., 1., 1.]])"
      ]
     },
     "execution_count": 101,
     "metadata": {},
     "output_type": "execute_result"
    }
   ],
   "source": [
    "tril"
   ]
  },
  {
   "cell_type": "code",
   "execution_count": 102,
   "metadata": {},
   "outputs": [
    {
     "data": {
      "text/plain": [
       "tensor([[1.0000, 0.0000, 0.0000, 0.0000, 0.0000, 0.0000, 0.0000, 0.0000],\n",
       "        [0.5000, 0.5000, 0.0000, 0.0000, 0.0000, 0.0000, 0.0000, 0.0000],\n",
       "        [0.3333, 0.3333, 0.3333, 0.0000, 0.0000, 0.0000, 0.0000, 0.0000],\n",
       "        [0.2500, 0.2500, 0.2500, 0.2500, 0.0000, 0.0000, 0.0000, 0.0000],\n",
       "        [0.2000, 0.2000, 0.2000, 0.2000, 0.2000, 0.0000, 0.0000, 0.0000],\n",
       "        [0.1667, 0.1667, 0.1667, 0.1667, 0.1667, 0.1667, 0.0000, 0.0000],\n",
       "        [0.1429, 0.1429, 0.1429, 0.1429, 0.1429, 0.1429, 0.1429, 0.0000],\n",
       "        [0.1250, 0.1250, 0.1250, 0.1250, 0.1250, 0.1250, 0.1250, 0.1250]])"
      ]
     },
     "execution_count": 102,
     "metadata": {},
     "output_type": "execute_result"
    }
   ],
   "source": [
    "wei"
   ]
  },
  {
   "cell_type": "code",
   "execution_count": 105,
   "metadata": {},
   "outputs": [
    {
     "data": {
      "text/plain": [
       "torch.Size([4, 8, 32])"
      ]
     },
     "execution_count": 105,
     "metadata": {},
     "output_type": "execute_result"
    }
   ],
   "source": [
    "torch.manual_seed(1337)\n",
    "B,T,C = 4,8,32 # batch, time, channels\n",
    "x = torch.randn(B,T,C)\n",
    "\n",
    "head_size = 16\n",
    "key = nn.Linear(C, head_size, bias=False)\n",
    "query = nn.Linear(C, head_size, bias=False)\n",
    "k = key(x) # (B, T, 16)\n",
    "q = query(x) # (B, T, 16)\n",
    "wei = q @ k.transpose(-2, -1) # (B, T, 16) @ (B, 16, T) --> (B, T, T)\n",
    "\n",
    "tril = torch.tril(torch.ones(T, T))\n",
    "# wei = torch.zeros((T, T))\n",
    "wei = wei.masked_fill(tril == 0, float(\"-inf\"))\n",
    "wei = F.softmax(wei, dim=-1)\n",
    "out = wei @ x\n",
    "\n",
    "out.shape"
   ]
  },
  {
   "cell_type": "code",
   "execution_count": 107,
   "metadata": {},
   "outputs": [
    {
     "data": {
      "text/plain": [
       "tensor([[1.0000, 0.0000, 0.0000, 0.0000, 0.0000, 0.0000, 0.0000, 0.0000],\n",
       "        [0.1574, 0.8426, 0.0000, 0.0000, 0.0000, 0.0000, 0.0000, 0.0000],\n",
       "        [0.2088, 0.1646, 0.6266, 0.0000, 0.0000, 0.0000, 0.0000, 0.0000],\n",
       "        [0.5792, 0.1187, 0.1889, 0.1131, 0.0000, 0.0000, 0.0000, 0.0000],\n",
       "        [0.0294, 0.1052, 0.0469, 0.0276, 0.7909, 0.0000, 0.0000, 0.0000],\n",
       "        [0.0176, 0.2689, 0.0215, 0.0089, 0.6812, 0.0019, 0.0000, 0.0000],\n",
       "        [0.1691, 0.4066, 0.0438, 0.0416, 0.1048, 0.2012, 0.0329, 0.0000],\n",
       "        [0.0210, 0.0843, 0.0555, 0.2297, 0.0573, 0.0709, 0.2423, 0.2391]],\n",
       "       grad_fn=<SelectBackward0>)"
      ]
     },
     "execution_count": 107,
     "metadata": {},
     "output_type": "execute_result"
    }
   ],
   "source": [
    "wei[0]"
   ]
  },
  {
   "cell_type": "code",
   "execution_count": 114,
   "metadata": {},
   "outputs": [
    {
     "data": {
      "text/plain": [
       "torch.Size([4, 8, 16])"
      ]
     },
     "execution_count": 114,
     "metadata": {},
     "output_type": "execute_result"
    }
   ],
   "source": [
    "torch.manual_seed(1337)\n",
    "B,T,C = 4,8,32 # batch, time, channels\n",
    "x = torch.randn(B,T,C)\n",
    "\n",
    "head_size = 16\n",
    "key = nn.Linear(C, head_size, bias=False)\n",
    "query = nn.Linear(C, head_size, bias=False)\n",
    "value = nn.Linear(C, head_size, bias=False)\n",
    "k = key(x) # (B, T, 16)\n",
    "q = query(x) # (B, T, 16)\n",
    "wei = q @ k.transpose(-2, -1) # (B, T, 16) @ (B, 16, T) --> (B, T, T)\n",
    "\n",
    "tril = torch.tril(torch.ones(T, T))\n",
    "# wei = torch.zeros((T, T))\n",
    "wei = wei.masked_fill(tril == 0, float(\"-inf\"))\n",
    "wei = F.softmax(wei, dim=-1)\n",
    "\n",
    "v = value(x)\n",
    "out = wei @ v\n",
    "# out = wei @ x\n",
    "\n",
    "out.shape"
   ]
  },
  {
   "cell_type": "code",
   "execution_count": 115,
   "metadata": {},
   "outputs": [
    {
     "data": {
      "text/plain": [
       "tensor([[1.0000, 0.0000, 0.0000, 0.0000, 0.0000, 0.0000, 0.0000, 0.0000],\n",
       "        [0.1574, 0.8426, 0.0000, 0.0000, 0.0000, 0.0000, 0.0000, 0.0000],\n",
       "        [0.2088, 0.1646, 0.6266, 0.0000, 0.0000, 0.0000, 0.0000, 0.0000],\n",
       "        [0.5792, 0.1187, 0.1889, 0.1131, 0.0000, 0.0000, 0.0000, 0.0000],\n",
       "        [0.0294, 0.1052, 0.0469, 0.0276, 0.7909, 0.0000, 0.0000, 0.0000],\n",
       "        [0.0176, 0.2689, 0.0215, 0.0089, 0.6812, 0.0019, 0.0000, 0.0000],\n",
       "        [0.1691, 0.4066, 0.0438, 0.0416, 0.1048, 0.2012, 0.0329, 0.0000],\n",
       "        [0.0210, 0.0843, 0.0555, 0.2297, 0.0573, 0.0709, 0.2423, 0.2391]],\n",
       "       grad_fn=<SelectBackward0>)"
      ]
     },
     "execution_count": 115,
     "metadata": {},
     "output_type": "execute_result"
    }
   ],
   "source": [
    "wei[0]"
   ]
  },
  {
   "cell_type": "code",
   "execution_count": null,
   "metadata": {},
   "outputs": [],
   "source": []
  }
 ],
 "metadata": {
  "kernelspec": {
   "display_name": "Python 3",
   "language": "python",
   "name": "python3"
  },
  "language_info": {
   "codemirror_mode": {
    "name": "ipython",
    "version": 3
   },
   "file_extension": ".py",
   "mimetype": "text/x-python",
   "name": "python",
   "nbconvert_exporter": "python",
   "pygments_lexer": "ipython3",
   "version": "3.10.2"
  }
 },
 "nbformat": 4,
 "nbformat_minor": 2
}
